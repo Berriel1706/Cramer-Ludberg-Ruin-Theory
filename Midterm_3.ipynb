{
 "cells": [
  {
   "cell_type": "markdown",
   "metadata": {},
   "source": [
    "# Risk Theory Midterm 3"
   ]
  },
  {
   "cell_type": "markdown",
   "metadata": {},
   "source": [
    "Use a programing language to code {${ C_{t}: t = 0,1,...}$} defined by \n",
    "\n",
    "$$C_{t} = C_{0} + t \\sum \\pi_{j}-\\sum_{k=1}^{t}S_{k} \\label{Risk_Process}$$\n",
    "\n",
    "where $S_{1}, S_{2},...$ are iid random variables distributed as \n",
    "\n",
    "$$S = Y_{1}+...+S_{N}\\label{Severity}$$\n",
    "\n",
    "where $N\\sim $Negative Binomial such that $ E(N)=120$ and $V(N) = 13^{2}$, and where $Y_{1},Y_{2},...$ are iid as $Y \\sim $LogNormal such that $M(Y) = 45$ and $VaR_{0.995}(Y) = 3500$, and independent of $N$. For the distirbution\n",
    "of S use bayesian credibility, fitting to log(S) as prior distribution a Student$(\\mu_0, n_0\\alpha(n_0 + 1)^{-1}β^{−1}, 2\\alpha)$ calibrating it's hyperparameters through simulations of \\ref{Severity} and then obtaining its posterior distribution considering own experience which consists in 5 observations of $S$ as follows: \n",
    "\n",
    "$$\\{4917, 32666, 12813, 17664, 23994\\}\\label{Obs}$$\n",
    "\n",
    "Consider that the return rate to be paid to the shareholders of the insurance company is 12% per period, that the average low risk return rate on investments available to the company is 5% and that the initial capital $C_{0}$ has to be such that the probability of solvency in a 1-year horizon is 99.5%. Using as total severity for time horizons of 1, 5 and 10 years, respectively, according to the risk process $C_{t}$"
   ]
  },
  {
   "cell_type": "markdown",
   "metadata": {},
   "source": [
    "## By Berricrack"
   ]
  },
  {
   "cell_type": "markdown",
   "metadata": {},
   "source": [
    "## Libraries"
   ]
  },
  {
   "cell_type": "code",
   "execution_count": 1,
   "metadata": {
    "ExecuteTime": {
     "end_time": "2021-02-08T23:07:49.949713Z",
     "start_time": "2021-02-08T23:07:49.015955Z"
    }
   },
   "outputs": [],
   "source": [
    "#Data management\n",
    "import pandas as pd\n",
    "import numpy as np\n",
    "\n",
    "#Statistical and math \n",
    "import scipy.stats  as stats\n",
    "import math as mt\n",
    "\n",
    "#Plotting\n",
    "from matplotlib import pyplot as plt\n",
    "import seaborn as sns\n",
    "\n",
    "#Macro for printing the plots\n",
    "%matplotlib inline\n",
    "\n",
    "#We set the seed\n",
    "np.random.seed(42)"
   ]
  },
  {
   "cell_type": "markdown",
   "metadata": {},
   "source": [
    "## Parameters of the frecuency r.v."
   ]
  },
  {
   "cell_type": "markdown",
   "metadata": {},
   "source": [
    "$N \\sim$ Negative Binomial such that $ E(N)=120$ and $V(N) = 13^{2}$"
   ]
  },
  {
   "cell_type": "code",
   "execution_count": 2,
   "metadata": {
    "ExecuteTime": {
     "end_time": "2021-02-08T23:07:51.901659Z",
     "start_time": "2021-02-08T23:07:51.886362Z"
    }
   },
   "outputs": [],
   "source": [
    "E_N, V_N = 120, 169"
   ]
  },
  {
   "cell_type": "markdown",
   "metadata": {},
   "source": [
    "We have the values for the expected value and the variance of the Negative Binomial random variable, so we use them to find the parameters of this distribution with a simple system of equiations as follows: $$120 = \\frac{r(1-p)}{p}$$ $$169 = \\frac{r(1-p)}{p^2}$$\n",
    "\n",
    "Therefore the parameters of the Negative Binomial are:"
   ]
  },
  {
   "cell_type": "code",
   "execution_count": 3,
   "metadata": {
    "ExecuteTime": {
     "end_time": "2021-02-08T23:07:53.405148Z",
     "start_time": "2021-02-08T23:07:53.389815Z"
    }
   },
   "outputs": [],
   "source": [
    "r, p  = 14400/49, 120/169"
   ]
  },
  {
   "cell_type": "markdown",
   "metadata": {},
   "source": [
    "Now we get the expected value and the variance of a Negative Binomial with the parameters we got to verify:"
   ]
  },
  {
   "cell_type": "code",
   "execution_count": 4,
   "metadata": {
    "ExecuteTime": {
     "end_time": "2021-02-08T23:07:54.491305Z",
     "start_time": "2021-02-08T23:07:54.460270Z"
    }
   },
   "outputs": [
    {
     "name": "stdout",
     "output_type": "stream",
     "text": [
      "120.05000000000003\n",
      "169.07041666666672\n"
     ]
    }
   ],
   "source": [
    "print(stats.nbinom.mean(mt.ceil(r),p))\n",
    "print(stats.nbinom.var(mt.ceil(r),p))"
   ]
  },
  {
   "cell_type": "markdown",
   "metadata": {},
   "source": [
    "## Parameters of the severity r.v."
   ]
  },
  {
   "cell_type": "markdown",
   "metadata": {},
   "source": [
    "We have that $Y_{1},Y_{2},...$ are iid as $Y \\sim $LogNormal such that $M(Y) = 45$ and $VaR_{0.995}(Y) = 3500$, so we want to determinate the parameters of a LogNormal given 2 quantiles of this distribution. So we found a method to do this in a very simple way: \n",
    "\n",
    "Let be X a LogNormal random variable from a two-parameter family. Then given probabilities\n",
    "p1 and p2 such that $P(X < log(x_1)) = p_1$ and $P(X < log(x_2)) = p_2$ we will have that our parameters are: \n",
    "\n",
    "$$\\sigma = \\frac{log(x_2)-log(x_1)}{\\Phi^{-1}(p_2)-\\Phi^{-1}(p_1)}\\label{sigma}$$ and \n",
    "$$\\mu = \\frac{log(x_1) \\Phi^{-1}(p_2)-log(x_2) \\Phi^{-1}(p_1)}{\\Phi^{-1}(p_2)-\\Phi^{-1}(p_1)}\\label{mu}$$\n",
    "\n",
    "In this case we have that $p_1 = 0.5$, $p_2 = 0.995$, $x_1 = Median(S)$ and $x_2 = VaR_0.995(S)$.\n",
    "\n",
    "\\vspace{1cm}\n",
    "PDF: https://www.johndcook.com/quantiles_parameters.pdf"
   ]
  },
  {
   "cell_type": "code",
   "execution_count": 5,
   "metadata": {
    "ExecuteTime": {
     "end_time": "2021-02-08T23:07:56.578786Z",
     "start_time": "2021-02-08T23:07:56.563147Z"
    }
   },
   "outputs": [],
   "source": [
    "M_S, VaR_995_S = 45, 3500"
   ]
  },
  {
   "cell_type": "markdown",
   "metadata": {},
   "source": [
    "Applying \\ref{sigma} and \\ref{mu} we find the parameters for the Severity random variable:"
   ]
  },
  {
   "cell_type": "code",
   "execution_count": 6,
   "metadata": {
    "ExecuteTime": {
     "end_time": "2021-02-08T23:07:57.498011Z",
     "start_time": "2021-02-08T23:07:57.467052Z"
    }
   },
   "outputs": [
    {
     "name": "stdout",
     "output_type": "stream",
     "text": [
      "1.6902734011561145 3.8066624897703196\n"
     ]
    }
   ],
   "source": [
    "Phi_m = stats.norm.ppf(0.5, loc=0, scale=1)\n",
    "Phi_v = stats.norm.ppf(0.995, loc=0, scale=1)\n",
    "\n",
    "sigma_S = (mt.log(VaR_995_S)-mt.log(M_S))/(Phi_v-Phi_m)\n",
    "mu_S = ((mt.log(M_S)*Phi_v)-(mt.log(VaR_995_S)*Phi_m))/(Phi_v-Phi_m)\n",
    "\n",
    "print(sigma_S, mu_S)"
   ]
  },
  {
   "cell_type": "markdown",
   "metadata": {},
   "source": [
    "Now we get the Median and the VaR of a LogNormal with the parameters we got to verify:"
   ]
  },
  {
   "cell_type": "code",
   "execution_count": 7,
   "metadata": {
    "ExecuteTime": {
     "end_time": "2021-02-08T23:07:59.139711Z",
     "start_time": "2021-02-08T23:07:59.124086Z"
    }
   },
   "outputs": [
    {
     "name": "stdout",
     "output_type": "stream",
     "text": [
      "44.99999999999999\n",
      "3499.999999999999\n"
     ]
    }
   ],
   "source": [
    "print(stats.lognorm.ppf(0.5, scale = mt.exp(mu_S), s=sigma_S))\n",
    "print(stats.lognorm.ppf(0.995,scale = mt.exp(mu_S), s=sigma_S))"
   ]
  },
  {
   "cell_type": "markdown",
   "metadata": {},
   "source": [
    "## Collective Risk Model Simulations"
   ]
  },
  {
   "cell_type": "markdown",
   "metadata": {},
   "source": [
    "We define our number of simulations and two empty arrays for saving the simulated values:"
   ]
  },
  {
   "cell_type": "code",
   "execution_count": 8,
   "metadata": {
    "ExecuteTime": {
     "end_time": "2021-02-08T23:08:01.174916Z",
     "start_time": "2021-02-08T23:08:01.159594Z"
    }
   },
   "outputs": [],
   "source": [
    "m = 1000000\n",
    "ni, si = [], []"
   ]
  },
  {
   "cell_type": "markdown",
   "metadata": {},
   "source": [
    "### Simulations for frequency"
   ]
  },
  {
   "cell_type": "code",
   "execution_count": 9,
   "metadata": {
    "ExecuteTime": {
     "end_time": "2021-02-08T23:08:02.964499Z",
     "start_time": "2021-02-08T23:08:02.727142Z"
    }
   },
   "outputs": [],
   "source": [
    "ni = list(map(lambda x: x,stats.nbinom.rvs(mt.ceil(r),p,size = m)))"
   ]
  },
  {
   "cell_type": "code",
   "execution_count": 10,
   "metadata": {
    "ExecuteTime": {
     "end_time": "2021-02-08T23:08:03.717147Z",
     "start_time": "2021-02-08T23:08:03.691412Z"
    }
   },
   "outputs": [
    {
     "data": {
      "text/plain": [
       "[127,\n",
       " 122,\n",
       " 105,\n",
       " 121,\n",
       " 109,\n",
       " 111,\n",
       " 104,\n",
       " 114,\n",
       " 116,\n",
       " 125,\n",
       " 138,\n",
       " 90,\n",
       " 111,\n",
       " 111,\n",
       " 111,\n",
       " 124,\n",
       " 118,\n",
       " 112,\n",
       " 125,\n",
       " 139,\n",
       " 117,\n",
       " 125,\n",
       " 127,\n",
       " 115,\n",
       " 115,\n",
       " 116,\n",
       " 131,\n",
       " 107,\n",
       " 112,\n",
       " 110,\n",
       " 107,\n",
       " 137,\n",
       " 111,\n",
       " 103,\n",
       " 131,\n",
       " 105,\n",
       " 111,\n",
       " 123,\n",
       " 129,\n",
       " 129,\n",
       " 113,\n",
       " 137,\n",
       " 131,\n",
       " 105,\n",
       " 123,\n",
       " 117,\n",
       " 129,\n",
       " 115,\n",
       " 124,\n",
       " 125,\n",
       " 120,\n",
       " 112,\n",
       " 108,\n",
       " 130,\n",
       " 114,\n",
       " 127,\n",
       " 128,\n",
       " 124,\n",
       " 121,\n",
       " 127,\n",
       " 140,\n",
       " 118,\n",
       " 110,\n",
       " 89,\n",
       " 129,\n",
       " 122,\n",
       " 111,\n",
       " 128,\n",
       " 119,\n",
       " 124,\n",
       " 113,\n",
       " 128,\n",
       " 113,\n",
       " 116,\n",
       " 121,\n",
       " 126,\n",
       " 124,\n",
       " 112,\n",
       " 132,\n",
       " 97,\n",
       " 116,\n",
       " 127,\n",
       " 137,\n",
       " 108,\n",
       " 122,\n",
       " 119,\n",
       " 127,\n",
       " 128,\n",
       " 107,\n",
       " 142,\n",
       " 109,\n",
       " 146,\n",
       " 121,\n",
       " 109,\n",
       " 106,\n",
       " 96,\n",
       " 112,\n",
       " 117,\n",
       " 139,\n",
       " 106,\n",
       " 125,\n",
       " 107,\n",
       " 123,\n",
       " 124,\n",
       " 153,\n",
       " 113,\n",
       " 109,\n",
       " 122,\n",
       " 134,\n",
       " 136,\n",
       " 115,\n",
       " 129,\n",
       " 122,\n",
       " 129,\n",
       " 116,\n",
       " 123,\n",
       " 132,\n",
       " 116,\n",
       " 122,\n",
       " 112,\n",
       " 125,\n",
       " 108,\n",
       " 157,\n",
       " 110,\n",
       " 117,\n",
       " 100,\n",
       " 117,\n",
       " 119,\n",
       " 99,\n",
       " 104,\n",
       " 145,\n",
       " 98,\n",
       " 114,\n",
       " 129,\n",
       " 123,\n",
       " 118,\n",
       " 110,\n",
       " 104,\n",
       " 132,\n",
       " 129,\n",
       " 108,\n",
       " 122,\n",
       " 108,\n",
       " 98,\n",
       " 118,\n",
       " 131,\n",
       " 125,\n",
       " 122,\n",
       " 106,\n",
       " 101,\n",
       " 95,\n",
       " 106,\n",
       " 129,\n",
       " 107,\n",
       " 111,\n",
       " 118,\n",
       " 110,\n",
       " 122,\n",
       " 138,\n",
       " 116,\n",
       " 137,\n",
       " 150,\n",
       " 120,\n",
       " 145,\n",
       " 125,\n",
       " 109,\n",
       " 105,\n",
       " 120,\n",
       " 118,\n",
       " 136,\n",
       " 127,\n",
       " 140,\n",
       " 110,\n",
       " 119,\n",
       " 125,\n",
       " 133,\n",
       " 103,\n",
       " 125,\n",
       " 121,\n",
       " 111,\n",
       " 116,\n",
       " 120,\n",
       " 121,\n",
       " 102,\n",
       " 99,\n",
       " 117,\n",
       " 117,\n",
       " 102,\n",
       " 100,\n",
       " 123,\n",
       " 107,\n",
       " 131,\n",
       " 107,\n",
       " 118,\n",
       " 138,\n",
       " 103,\n",
       " 107,\n",
       " 133,\n",
       " 130,\n",
       " 120,\n",
       " 111,\n",
       " 110,\n",
       " 135,\n",
       " 122,\n",
       " 151,\n",
       " 128,\n",
       " 127,\n",
       " 108,\n",
       " 112,\n",
       " 135,\n",
       " 119,\n",
       " 105,\n",
       " 118,\n",
       " 144,\n",
       " 123,\n",
       " 123,\n",
       " 137,\n",
       " 151,\n",
       " 125,\n",
       " 128,\n",
       " 132,\n",
       " 115,\n",
       " 129,\n",
       " 118,\n",
       " 131,\n",
       " 123,\n",
       " 116,\n",
       " 127,\n",
       " 125,\n",
       " 125,\n",
       " 111,\n",
       " 124,\n",
       " 126,\n",
       " 141,\n",
       " 110,\n",
       " 148,\n",
       " 117,\n",
       " 107,\n",
       " 146,\n",
       " 147,\n",
       " 122,\n",
       " 142,\n",
       " 116,\n",
       " 133,\n",
       " 140,\n",
       " 147,\n",
       " 132,\n",
       " 111,\n",
       " 127,\n",
       " 133,\n",
       " 113,\n",
       " 130,\n",
       " 116,\n",
       " 138,\n",
       " 130,\n",
       " 121,\n",
       " 129,\n",
       " 117,\n",
       " 113,\n",
       " 121,\n",
       " 129,\n",
       " 135,\n",
       " 110,\n",
       " 145,\n",
       " 128,\n",
       " 142,\n",
       " 105,\n",
       " 119,\n",
       " 131,\n",
       " 112,\n",
       " 122,\n",
       " 125,\n",
       " 127,\n",
       " 106,\n",
       " 99,\n",
       " 117,\n",
       " 100,\n",
       " 99,\n",
       " 136,\n",
       " 104,\n",
       " 134,\n",
       " 102,\n",
       " 110,\n",
       " 122,\n",
       " 137,\n",
       " 103,\n",
       " 126,\n",
       " 104,\n",
       " 129,\n",
       " 145,\n",
       " 114,\n",
       " 117,\n",
       " 112,\n",
       " 113,\n",
       " 128,\n",
       " 132,\n",
       " 110,\n",
       " 116,\n",
       " 118,\n",
       " 104,\n",
       " 128,\n",
       " 124,\n",
       " 141,\n",
       " 118,\n",
       " 151,\n",
       " 111,\n",
       " 133,\n",
       " 95,\n",
       " 107,\n",
       " 126,\n",
       " 132,\n",
       " 138,\n",
       " 133,\n",
       " 112,\n",
       " 129,\n",
       " 137,\n",
       " 138,\n",
       " 122,\n",
       " 114,\n",
       " 116,\n",
       " 96,\n",
       " 115,\n",
       " 126,\n",
       " 114,\n",
       " 136,\n",
       " 166,\n",
       " 146,\n",
       " 117,\n",
       " 102,\n",
       " 113,\n",
       " 99,\n",
       " 115,\n",
       " 115,\n",
       " 147,\n",
       " 110,\n",
       " 115,\n",
       " 113,\n",
       " 130,\n",
       " 125,\n",
       " 125,\n",
       " 102,\n",
       " 108,\n",
       " 105,\n",
       " 120,\n",
       " 116,\n",
       " 103,\n",
       " 116,\n",
       " 128,\n",
       " 142,\n",
       " 109,\n",
       " 114,\n",
       " 133,\n",
       " 132,\n",
       " 118,\n",
       " 133,\n",
       " 88,\n",
       " 135,\n",
       " 108,\n",
       " 136,\n",
       " 122,\n",
       " 137,\n",
       " 99,\n",
       " 135,\n",
       " 132,\n",
       " 130,\n",
       " 119,\n",
       " 118,\n",
       " 122,\n",
       " 116,\n",
       " 134,\n",
       " 112,\n",
       " 111,\n",
       " 121,\n",
       " 122,\n",
       " 108,\n",
       " 127,\n",
       " 108,\n",
       " 104,\n",
       " 121,\n",
       " 107,\n",
       " 116,\n",
       " 113,\n",
       " 113,\n",
       " 126,\n",
       " 129,\n",
       " 109,\n",
       " 115,\n",
       " 101,\n",
       " 120,\n",
       " 102,\n",
       " 162,\n",
       " 129,\n",
       " 127,\n",
       " 129,\n",
       " 129,\n",
       " 107,\n",
       " 116,\n",
       " 93,\n",
       " 133,\n",
       " 145,\n",
       " 126,\n",
       " 119,\n",
       " 113,\n",
       " 123,\n",
       " 124,\n",
       " 144,\n",
       " 110,\n",
       " 95,\n",
       " 124,\n",
       " 119,\n",
       " 115,\n",
       " 114,\n",
       " 135,\n",
       " 123,\n",
       " 93,\n",
       " 134,\n",
       " 134,\n",
       " 126,\n",
       " 109,\n",
       " 130,\n",
       " 110,\n",
       " 122,\n",
       " 122,\n",
       " 146,\n",
       " 129,\n",
       " 123,\n",
       " 120,\n",
       " 108,\n",
       " 94,\n",
       " 99,\n",
       " 102,\n",
       " 150,\n",
       " 111,\n",
       " 111,\n",
       " 130,\n",
       " 135,\n",
       " 119,\n",
       " 148,\n",
       " 114,\n",
       " 115,\n",
       " 96,\n",
       " 142,\n",
       " 120,\n",
       " 122,\n",
       " 135,\n",
       " 99,\n",
       " 125,\n",
       " 124,\n",
       " 117,\n",
       " 105,\n",
       " 126,\n",
       " 131,\n",
       " 131,\n",
       " 120,\n",
       " 127,\n",
       " 112,\n",
       " 117,\n",
       " 134,\n",
       " 125,\n",
       " 138,\n",
       " 145,\n",
       " 127,\n",
       " 115,\n",
       " 128,\n",
       " 117,\n",
       " 103,\n",
       " 125,\n",
       " 109,\n",
       " 108,\n",
       " 126,\n",
       " 134,\n",
       " 124,\n",
       " 107,\n",
       " 129,\n",
       " 142,\n",
       " 112,\n",
       " 124,\n",
       " 117,\n",
       " 136,\n",
       " 130,\n",
       " 106,\n",
       " 135,\n",
       " 117,\n",
       " 111,\n",
       " 115,\n",
       " 143,\n",
       " 132,\n",
       " 134,\n",
       " 119,\n",
       " 137,\n",
       " 123,\n",
       " 117,\n",
       " 121,\n",
       " 118,\n",
       " 89,\n",
       " 110,\n",
       " 110,\n",
       " 115,\n",
       " 120,\n",
       " 135,\n",
       " 116,\n",
       " 114,\n",
       " 112,\n",
       " 113,\n",
       " 95,\n",
       " 105,\n",
       " 103,\n",
       " 96,\n",
       " 117,\n",
       " 127,\n",
       " 105,\n",
       " 115,\n",
       " 118,\n",
       " 125,\n",
       " 108,\n",
       " 131,\n",
       " 120,\n",
       " 118,\n",
       " 115,\n",
       " 144,\n",
       " 108,\n",
       " 136,\n",
       " 110,\n",
       " 115,\n",
       " 95,\n",
       " 107,\n",
       " 135,\n",
       " 125,\n",
       " 125,\n",
       " 124,\n",
       " 145,\n",
       " 128,\n",
       " 114,\n",
       " 115,\n",
       " 117,\n",
       " 122,\n",
       " 118,\n",
       " 137,\n",
       " 138,\n",
       " 113,\n",
       " 137,\n",
       " 113,\n",
       " 115,\n",
       " 142,\n",
       " 108,\n",
       " 133,\n",
       " 144,\n",
       " 106,\n",
       " 110,\n",
       " 129,\n",
       " 111,\n",
       " 129,\n",
       " 122,\n",
       " 124,\n",
       " 138,\n",
       " 118,\n",
       " 127,\n",
       " 111,\n",
       " 134,\n",
       " 108,\n",
       " 128,\n",
       " 97,\n",
       " 104,\n",
       " 112,\n",
       " 124,\n",
       " 116,\n",
       " 109,\n",
       " 92,\n",
       " 126,\n",
       " 116,\n",
       " 132,\n",
       " 122,\n",
       " 118,\n",
       " 123,\n",
       " 104,\n",
       " 96,\n",
       " 119,\n",
       " 120,\n",
       " 130,\n",
       " 129,\n",
       " 118,\n",
       " 120,\n",
       " 105,\n",
       " 115,\n",
       " 121,\n",
       " 102,\n",
       " 106,\n",
       " 124,\n",
       " 136,\n",
       " 135,\n",
       " 105,\n",
       " 122,\n",
       " 120,\n",
       " 100,\n",
       " 118,\n",
       " 130,\n",
       " 101,\n",
       " 111,\n",
       " 115,\n",
       " 120,\n",
       " 107,\n",
       " 118,\n",
       " 141,\n",
       " 135,\n",
       " 117,\n",
       " 91,\n",
       " 120,\n",
       " 146,\n",
       " 112,\n",
       " 132,\n",
       " 138,\n",
       " 121,\n",
       " 113,\n",
       " 124,\n",
       " 109,\n",
       " 116,\n",
       " 113,\n",
       " 118,\n",
       " 111,\n",
       " 109,\n",
       " 120,\n",
       " 125,\n",
       " 111,\n",
       " 111,\n",
       " 124,\n",
       " 123,\n",
       " 129,\n",
       " 110,\n",
       " 80,\n",
       " 123,\n",
       " 143,\n",
       " 120,\n",
       " 115,\n",
       " 111,\n",
       " 121,\n",
       " 137,\n",
       " 95,\n",
       " 123,\n",
       " 117,\n",
       " 134,\n",
       " 124,\n",
       " 125,\n",
       " 123,\n",
       " 135,\n",
       " 120,\n",
       " 129,\n",
       " 120,\n",
       " 93,\n",
       " 136,\n",
       " 110,\n",
       " 135,\n",
       " 119,\n",
       " 110,\n",
       " 125,\n",
       " 125,\n",
       " 137,\n",
       " 123,\n",
       " 106,\n",
       " 110,\n",
       " 101,\n",
       " 125,\n",
       " 110,\n",
       " 112,\n",
       " 113,\n",
       " 120,\n",
       " 110,\n",
       " 118,\n",
       " 156,\n",
       " 127,\n",
       " 119,\n",
       " 135,\n",
       " 112,\n",
       " 118,\n",
       " 126,\n",
       " 123,\n",
       " 119,\n",
       " 106,\n",
       " 123,\n",
       " 128,\n",
       " 142,\n",
       " 131,\n",
       " 107,\n",
       " 123,\n",
       " 148,\n",
       " 109,\n",
       " 147,\n",
       " 116,\n",
       " 146,\n",
       " 108,\n",
       " 109,\n",
       " 132,\n",
       " 116,\n",
       " 137,\n",
       " 122,\n",
       " 119,\n",
       " 106,\n",
       " 135,\n",
       " 157,\n",
       " 141,\n",
       " 103,\n",
       " 114,\n",
       " 114,\n",
       " 106,\n",
       " 103,\n",
       " 137,\n",
       " 113,\n",
       " 121,\n",
       " 137,\n",
       " 98,\n",
       " 127,\n",
       " 126,\n",
       " 128,\n",
       " 146,\n",
       " 119,\n",
       " 122,\n",
       " 121,\n",
       " 104,\n",
       " 116,\n",
       " 126,\n",
       " 123,\n",
       " 95,\n",
       " 119,\n",
       " 134,\n",
       " 121,\n",
       " 125,\n",
       " 129,\n",
       " 125,\n",
       " 132,\n",
       " 120,\n",
       " 116,\n",
       " 117,\n",
       " 116,\n",
       " 116,\n",
       " 150,\n",
       " 118,\n",
       " 106,\n",
       " 112,\n",
       " 120,\n",
       " 128,\n",
       " 124,\n",
       " 125,\n",
       " 131,\n",
       " 108,\n",
       " 112,\n",
       " 128,\n",
       " 144,\n",
       " 119,\n",
       " 111,\n",
       " 127,\n",
       " 109,\n",
       " 130,\n",
       " 116,\n",
       " 114,\n",
       " 118,\n",
       " 122,\n",
       " 120,\n",
       " 124,\n",
       " 110,\n",
       " 126,\n",
       " 100,\n",
       " 127,\n",
       " 117,\n",
       " 121,\n",
       " 120,\n",
       " 108,\n",
       " 107,\n",
       " 116,\n",
       " 113,\n",
       " 112,\n",
       " 107,\n",
       " 104,\n",
       " 107,\n",
       " 118,\n",
       " 114,\n",
       " 131,\n",
       " 113,\n",
       " 148,\n",
       " 142,\n",
       " 119,\n",
       " 106,\n",
       " 117,\n",
       " 138,\n",
       " 139,\n",
       " 127,\n",
       " 114,\n",
       " 124,\n",
       " 122,\n",
       " 123,\n",
       " 107,\n",
       " 115,\n",
       " 110,\n",
       " 111,\n",
       " 130,\n",
       " 124,\n",
       " 99,\n",
       " 111,\n",
       " 125,\n",
       " 123,\n",
       " 116,\n",
       " 129,\n",
       " 106,\n",
       " 134,\n",
       " 117,\n",
       " 104,\n",
       " 111,\n",
       " 151,\n",
       " 147,\n",
       " 134,\n",
       " 108,\n",
       " 139,\n",
       " 107,\n",
       " 117,\n",
       " 127,\n",
       " 125,\n",
       " 128,\n",
       " 126,\n",
       " 109,\n",
       " 101,\n",
       " 101,\n",
       " 109,\n",
       " 134,\n",
       " 132,\n",
       " 119,\n",
       " 133,\n",
       " 92,\n",
       " 139,\n",
       " 144,\n",
       " 109,\n",
       " 121,\n",
       " 129,\n",
       " 115,\n",
       " 119,\n",
       " 100,\n",
       " 112,\n",
       " 113,\n",
       " 116,\n",
       " 125,\n",
       " 111,\n",
       " 105,\n",
       " 118,\n",
       " 114,\n",
       " 126,\n",
       " 105,\n",
       " 94,\n",
       " 114,\n",
       " 131,\n",
       " 126,\n",
       " 134,\n",
       " 99,\n",
       " 113,\n",
       " 100,\n",
       " 157,\n",
       " 111,\n",
       " 132,\n",
       " 104,\n",
       " 116,\n",
       " 109,\n",
       " 100,\n",
       " 118,\n",
       " 122,\n",
       " 115,\n",
       " 119,\n",
       " 109,\n",
       " 123,\n",
       " 123,\n",
       " 97,\n",
       " 133,\n",
       " 122,\n",
       " 98,\n",
       " 119,\n",
       " 108,\n",
       " 129,\n",
       " 108,\n",
       " 132,\n",
       " 104,\n",
       " 120,\n",
       " 108,\n",
       " 123,\n",
       " 121,\n",
       " 119,\n",
       " 123,\n",
       " 133,\n",
       " 105,\n",
       " 121,\n",
       " 132,\n",
       " 110,\n",
       " 106,\n",
       " 115,\n",
       " 117,\n",
       " 108,\n",
       " 101,\n",
       " 166,\n",
       " 121,\n",
       " 130,\n",
       " 126,\n",
       " 132,\n",
       " 148,\n",
       " 120,\n",
       " 122,\n",
       " 125,\n",
       " 118,\n",
       " 109,\n",
       " 116,\n",
       " 131,\n",
       " 93,\n",
       " 129,\n",
       " 122,\n",
       " 128,\n",
       " 125,\n",
       " 113,\n",
       " 105,\n",
       " 136,\n",
       " 121,\n",
       " 97,\n",
       " 120,\n",
       " 128,\n",
       " 138,\n",
       " 105,\n",
       " 112,\n",
       " 125,\n",
       " 112,\n",
       " 123,\n",
       " 101,\n",
       " 108,\n",
       " 127,\n",
       " 113,\n",
       " 138,\n",
       " 108,\n",
       " 125,\n",
       " 120,\n",
       " 138,\n",
       " 130,\n",
       " 119,\n",
       " 119,\n",
       " 104,\n",
       " 143,\n",
       " 110,\n",
       " 116,\n",
       " 124,\n",
       " 103,\n",
       " 120,\n",
       " 120,\n",
       " 122,\n",
       " 127,\n",
       " 126,\n",
       " 129,\n",
       " 112,\n",
       " 120,\n",
       " 123,\n",
       " 102,\n",
       " 118,\n",
       " 103,\n",
       " 134,\n",
       " 116,\n",
       " 134,\n",
       " 99,\n",
       " 116,\n",
       " 136,\n",
       " 132,\n",
       " 103,\n",
       " 139,\n",
       " 110,\n",
       " 128,\n",
       " 118,\n",
       " 110,\n",
       " 108,\n",
       " 133,\n",
       " 117,\n",
       " 100,\n",
       " 120,\n",
       " 109,\n",
       " 90,\n",
       " 115,\n",
       " 115,\n",
       " 121,\n",
       " 121,\n",
       " 137,\n",
       " 112,\n",
       " 117,\n",
       " 109,\n",
       " 123,\n",
       " 122,\n",
       " 129,\n",
       " 131,\n",
       " 111,\n",
       " 113,\n",
       " 139,\n",
       " 117,\n",
       " 126,\n",
       " 119,\n",
       " 129,\n",
       " 101,\n",
       " 127,\n",
       " 106,\n",
       " 119,\n",
       " 138,\n",
       " 121,\n",
       " 118,\n",
       " 124,\n",
       " 103,\n",
       " ...]"
      ]
     },
     "execution_count": 10,
     "metadata": {},
     "output_type": "execute_result"
    }
   ],
   "source": [
    "ni"
   ]
  },
  {
   "cell_type": "markdown",
   "metadata": {},
   "source": [
    "### Simulations "
   ]
  },
  {
   "cell_type": "code",
   "execution_count": 11,
   "metadata": {
    "ExecuteTime": {
     "end_time": "2021-02-08T23:09:21.290999Z",
     "start_time": "2021-02-08T23:08:06.486424Z"
    }
   },
   "outputs": [],
   "source": [
    "for i in range(len(ni)):  \n",
    "    if ni[i] > 0:\n",
    "        y = np.array(list(map(lambda n: n,stats.lognorm.rvs(scale = mt.exp(mu_S), \n",
    "                                                            s=sigma_S, size = ni[i]))))\n",
    "        si.append(y.sum())\n",
    "    else:\n",
    "        si.append(0)\n",
    "Simulations = np.array(si)"
   ]
  },
  {
   "cell_type": "markdown",
   "metadata": {},
   "source": [
    "### Important values for the simulations"
   ]
  },
  {
   "cell_type": "code",
   "execution_count": 12,
   "metadata": {
    "ExecuteTime": {
     "end_time": "2021-02-08T23:12:31.516152Z",
     "start_time": "2021-02-08T23:12:31.384522Z"
    }
   },
   "outputs": [],
   "source": [
    "mean = Simulations.mean()\n",
    "t_mean = stats.lognorm.mean(scale = mt.exp(mu_S), s=sigma_S)*np.mean(ni)\n",
    "variance = Simulations.std()**2\n",
    "median = np.percentile(Simulations, 50)\n",
    "VaR = np.percentile(Simulations, 99.5)"
   ]
  },
  {
   "cell_type": "markdown",
   "metadata": {},
   "source": [
    "We see if the simulated values mean and the theoretical mean ( $E(S)*E(N)$ ) match:"
   ]
  },
  {
   "cell_type": "code",
   "execution_count": 13,
   "metadata": {
    "ExecuteTime": {
     "end_time": "2021-02-08T23:12:33.504749Z",
     "start_time": "2021-02-08T23:12:33.489110Z"
    }
   },
   "outputs": [
    {
     "name": "stdout",
     "output_type": "stream",
     "text": [
      "The mean for S is: 22532.650860675698\n",
      "The theoretical mean for S is: 22540.817505442505\n"
     ]
    }
   ],
   "source": [
    "print('The mean for S is:',mean)\n",
    "print('The theoretical mean for S is:',t_mean)"
   ]
  },
  {
   "cell_type": "code",
   "execution_count": 14,
   "metadata": {
    "ExecuteTime": {
     "end_time": "2021-01-29T21:43:06.690750Z",
     "start_time": "2021-01-29T21:43:06.675131Z"
    }
   },
   "outputs": [
    {
     "name": "stdout",
     "output_type": "stream",
     "text": [
      "The variance for S is: 73390085.64211449\n",
      "The median for S is: 20974.676808570555\n",
      "The VaR of level 0.995 for S is: 59948.413901684624\n"
     ]
    }
   ],
   "source": [
    "print('The variance for S is:',variance)\n",
    "print('The median for S is:',median)\n",
    "print('The VaR of level 0.995 for S is:',VaR)"
   ]
  },
  {
   "cell_type": "markdown",
   "metadata": {},
   "source": [
    "## Prior Distribution"
   ]
  },
  {
   "cell_type": "markdown",
   "metadata": {},
   "source": [
    "As we want to fit $log(S)$ to a Student Distribution with parameters $\\mu_0, n_0\\alpha(n_0 + 1)^{-1}β^{−1}, 2\\alpha$ we first apply log to the simulated values."
   ]
  },
  {
   "cell_type": "code",
   "execution_count": 15,
   "metadata": {
    "ExecuteTime": {
     "end_time": "2021-01-29T21:43:09.064617Z",
     "start_time": "2021-01-29T21:43:09.048995Z"
    }
   },
   "outputs": [],
   "source": [
    "log_Simulations = np.log(Simulations)"
   ]
  },
  {
   "cell_type": "markdown",
   "metadata": {},
   "source": [
    "After having $log(S)$ we look for the hyperparameters for the prior Student distribution, we make this with the function t.fit, where we pass the 100 percentiles of the logSimulations to fit a Student distribution, also we fixed the mean of the logSimulations as the location hyperparameter with floc."
   ]
  },
  {
   "cell_type": "code",
   "execution_count": 16,
   "metadata": {
    "ExecuteTime": {
     "end_time": "2021-01-29T21:43:11.650609Z",
     "start_time": "2021-01-29T21:43:10.683295Z"
    }
   },
   "outputs": [
    {
     "name": "stdout",
     "output_type": "stream",
     "text": [
      "3.809678600904286 9.9678844137989 0.25609907828237555\n"
     ]
    }
   ],
   "source": [
    "y = list(map(lambda x: np.percentile(log_Simulations, x) , list(range(1,101))))\n",
    "prior_alpha, prior_mu, prior_sigma  = stats.t.fit(y,floc=log_Simulations.mean())\n",
    "print(prior_alpha, prior_mu, prior_sigma)"
   ]
  },
  {
   "cell_type": "markdown",
   "metadata": {},
   "source": [
    "Therefore we have that: \n",
    "\n",
    "\\begin{itemize}\n",
    "\\item $\\mu_0 = 9.9679$\n",
    "\\item $n_0\\alpha(n_0 + 1)^{-1}β^{−1} = 0.2561$\n",
    "\\item $2\\alpha = 3.8097$\n",
    "\\end{itemize}\n",
    "\n",
    "Then with this parameters we calculate the mean, the median, the $VaR_{75}$ and the $VaR_{99.5}$ to compare these values with the ones of the simulated values:"
   ]
  },
  {
   "cell_type": "code",
   "execution_count": 17,
   "metadata": {
    "ExecuteTime": {
     "end_time": "2021-01-29T21:43:18.354672Z",
     "start_time": "2021-01-29T21:43:18.276561Z"
    }
   },
   "outputs": [
    {
     "data": {
      "text/html": [
       "<div>\n",
       "<style scoped>\n",
       "    .dataframe tbody tr th:only-of-type {\n",
       "        vertical-align: middle;\n",
       "    }\n",
       "\n",
       "    .dataframe tbody tr th {\n",
       "        vertical-align: top;\n",
       "    }\n",
       "\n",
       "    .dataframe thead th {\n",
       "        text-align: right;\n",
       "    }\n",
       "</style>\n",
       "<table border=\"1\" class=\"dataframe\">\n",
       "  <thead>\n",
       "    <tr style=\"text-align: right;\">\n",
       "      <th></th>\n",
       "      <th>Simulations</th>\n",
       "      <th>Fitted_Student</th>\n",
       "    </tr>\n",
       "  </thead>\n",
       "  <tbody>\n",
       "    <tr>\n",
       "      <th>Mean</th>\n",
       "      <td>9.96788</td>\n",
       "      <td>9.96788</td>\n",
       "    </tr>\n",
       "    <tr>\n",
       "      <th>Median</th>\n",
       "      <td>9.95107</td>\n",
       "      <td>9.96788</td>\n",
       "    </tr>\n",
       "    <tr>\n",
       "      <th>VaR_75</th>\n",
       "      <td>10.1607</td>\n",
       "      <td>10.1585</td>\n",
       "    </tr>\n",
       "    <tr>\n",
       "      <th>VaR_99.5</th>\n",
       "      <td>11.0012</td>\n",
       "      <td>11.1882</td>\n",
       "    </tr>\n",
       "  </tbody>\n",
       "</table>\n",
       "</div>"
      ],
      "text/plain": [
       "         Simulations Fitted_Student\n",
       "Mean         9.96788        9.96788\n",
       "Median       9.95107        9.96788\n",
       "VaR_75       10.1607        10.1585\n",
       "VaR_99.5     11.0012        11.1882"
      ]
     },
     "execution_count": 17,
     "metadata": {},
     "output_type": "execute_result"
    }
   ],
   "source": [
    "names = ['Mean', 'Median', 'VaR_75', 'VaR_99.5']\n",
    "sim = [np.mean(log_Simulations), np.percentile(log_Simulations, 50), \n",
    "       np.percentile(log_Simulations, 75), np.percentile(log_Simulations, 99.5)]\n",
    "fit = stats.t.ppf([0.5, 0.5, 0.75, 0.995], df=prior_alpha, loc=prior_mu, scale=prior_sigma)\n",
    "\n",
    "Compared = pd.DataFrame([names, sim, fit]).T\n",
    "Compared.columns = ['Measure', 'Simulations', 'Fitted_Student']\n",
    "Compared.rename(index=Compared.Measure, inplace=True)\n",
    "del Compared['Measure']\n",
    "Compared"
   ]
  },
  {
   "cell_type": "markdown",
   "metadata": {},
   "source": [
    "As we can see, the values we get from the fitted Student distribution are quite similar, anyway we can also plot the logSimulated values and the density of the Student to verify: "
   ]
  },
  {
   "cell_type": "code",
   "execution_count": 18,
   "metadata": {
    "ExecuteTime": {
     "end_time": "2021-01-29T21:43:21.510774Z",
     "start_time": "2021-01-29T21:43:20.561503Z"
    }
   },
   "outputs": [
    {
     "data": {
      "text/plain": [
       "<Figure size 864x864 with 0 Axes>"
      ]
     },
     "metadata": {},
     "output_type": "display_data"
    },
    {
     "data": {
      "image/png": "[encoded data removed]",
      "text/plain": [
       "<Figure size 432x288 with 1 Axes>"
      ]
     },
     "metadata": {
      "needs_background": "light"
     },
     "output_type": "display_data"
    }
   ],
   "source": [
    "plt.figure(figsize=(12,12))\n",
    "\n",
    "fig, ax = plt.subplots(1, 1)\n",
    "\n",
    "x = np.linspace(stats.t.ppf(0.001,df=prior_alpha,loc=prior_mu,scale=prior_sigma),\n",
    "                stats.t.ppf(0.999,df=prior_alpha,loc=prior_mu,scale=prior_sigma), 100)\n",
    "rv = stats.t(df=prior_alpha,loc=prior_mu,scale=prior_sigma)\n",
    "\n",
    "ax.plot(x, rv.pdf(x), label='Student with fitted parameters (pdf)')\n",
    "ax.hist(log_Simulations, bins=500, density=True, color='orange', label='Simulations Values')\n",
    "\n",
    "plt.title('Simulations vs Fitted Student Distribution')\n",
    "y = plt.gca().title\n",
    "y.set_fontsize(21)\n",
    "y.set_color('black')\n",
    "\n",
    "plt.legend(bbox_to_anchor=(1, 1), borderaxespad=0.5,fontsize='large')\n",
    "\n",
    "plt.show()"
   ]
  },
  {
   "cell_type": "markdown",
   "metadata": {},
   "source": [
    "## Posterior Distribution"
   ]
  },
  {
   "cell_type": "markdown",
   "metadata": {},
   "source": [
    "Now that we have the prior parameters, we can work with those parameters and with the experience of the company for calibrate the posterior parameters."
   ]
  },
  {
   "cell_type": "code",
   "execution_count": 19,
   "metadata": {
    "ExecuteTime": {
     "end_time": "2021-01-29T21:43:26.847277Z",
     "start_time": "2021-01-29T21:43:26.831651Z"
    }
   },
   "outputs": [
    {
     "data": {
      "text/html": [
       "<div>\n",
       "<style scoped>\n",
       "    .dataframe tbody tr th:only-of-type {\n",
       "        vertical-align: middle;\n",
       "    }\n",
       "\n",
       "    .dataframe tbody tr th {\n",
       "        vertical-align: top;\n",
       "    }\n",
       "\n",
       "    .dataframe thead th {\n",
       "        text-align: right;\n",
       "    }\n",
       "</style>\n",
       "<table border=\"1\" class=\"dataframe\">\n",
       "  <thead>\n",
       "    <tr style=\"text-align: right;\">\n",
       "      <th></th>\n",
       "      <th>Experience</th>\n",
       "      <th>Log_Experience</th>\n",
       "    </tr>\n",
       "  </thead>\n",
       "  <tbody>\n",
       "    <tr>\n",
       "      <th>0</th>\n",
       "      <td>4917</td>\n",
       "      <td>8.500454</td>\n",
       "    </tr>\n",
       "    <tr>\n",
       "      <th>1</th>\n",
       "      <td>32666</td>\n",
       "      <td>10.394090</td>\n",
       "    </tr>\n",
       "    <tr>\n",
       "      <th>2</th>\n",
       "      <td>12813</td>\n",
       "      <td>9.458216</td>\n",
       "    </tr>\n",
       "    <tr>\n",
       "      <th>3</th>\n",
       "      <td>17664</td>\n",
       "      <td>9.779284</td>\n",
       "    </tr>\n",
       "    <tr>\n",
       "      <th>4</th>\n",
       "      <td>23994</td>\n",
       "      <td>10.085559</td>\n",
       "    </tr>\n",
       "  </tbody>\n",
       "</table>\n",
       "</div>"
      ],
      "text/plain": [
       "   Experience  Log_Experience\n",
       "0        4917        8.500454\n",
       "1       32666       10.394090\n",
       "2       12813        9.458216\n",
       "3       17664        9.779284\n",
       "4       23994       10.085559"
      ]
     },
     "execution_count": 19,
     "metadata": {},
     "output_type": "execute_result"
    }
   ],
   "source": [
    "EXP = pd.DataFrame({'Experience':[4917, 32666, 12813, 17664, 23994]})\n",
    "EXP['Log_Experience'] = np.log(EXP['Experience'])\n",
    "EXP"
   ]
  },
  {
   "cell_type": "code",
   "execution_count": null,
   "metadata": {},
   "outputs": [],
   "source": []
  },
  {
   "cell_type": "markdown",
   "metadata": {},
   "source": [
    "We know that the prior parameters are:\n",
    "\n",
    "begin{itemize}\n",
    "\\item $\\mu_0 = 9.9679$\n",
    "\\item $n_0\\alpha(n_0 + 1)^{-1}β^{−1} = 0.2561$\n",
    "\\item $2\\alpha = 3.8097$\n",
    "\\end{itemize}\n",
    "\n",
    "We also know that the posterior distribution has the parameters:\n",
    "\n",
    "\n",
    "$\\mu_m$\n",
    "$(n_0+n)(\\alpha+\\frac{n}{2})(n_0 + n + 1)^{-1}β^{−1}_n$\n",
    "$2\\alpha + n$\n",
    "\n",
    "\n",
    "Where $n = 5$ and \n",
    "\n",
    "$$\\mu_m = \\frac{n_0\\mu_0 + n\\bar{s}}{n_0+n}\\label{mun}$$\n",
    "\n",
    "As we have $n_0\\alpha(n_0 + 1)^{-1}β^{−1} = 0.2561$, we can get different values for $n_0$ and $\\beta$, we'll have to calibrate these values to find the best posterior distribution. "
   ]
  },
  {
   "cell_type": "markdown",
   "metadata": {},
   "source": [
    "We start from the fact that $n_0\\alpha(n_0 + 1)^{-1}β^{−1} = prior\\_sigma$, and from here notice that we can write $n_0$ in terms of $\\beta$ as follows:\n",
    "\n",
    "$$n_0 = \\frac{y\\beta}{1-y\\beta}$$\n",
    "\n",
    "where y is:"
   ]
  },
  {
   "cell_type": "code",
   "execution_count": 20,
   "metadata": {
    "ExecuteTime": {
     "end_time": "2021-01-29T21:43:30.802705Z",
     "start_time": "2021-01-29T21:43:30.787088Z"
    }
   },
   "outputs": [],
   "source": [
    "y = (2*prior_sigma)/prior_alpha"
   ]
  },
  {
   "cell_type": "markdown",
   "metadata": {},
   "source": [
    "From here we notice that we can give a value to $\\beta$ and we will get our $n_0$, $n_0$ modifies a little the value of $\\mu_n$, so we'll play with the value of $\\beta$ to see what happens to the posterior distribution. Also we realize that for getting both values $n_0$ and $\\beta$ greater than 0 the value of $\\beta$ limitates from 0 to $\\frac{1}{y}$."
   ]
  },
  {
   "cell_type": "code",
   "execution_count": 21,
   "metadata": {
    "ExecuteTime": {
     "end_time": "2021-01-29T21:43:32.839951Z",
     "start_time": "2021-01-29T21:43:32.824330Z"
    }
   },
   "outputs": [
    {
     "data": {
      "text/plain": [
       "7.437899867612416"
      ]
     },
     "execution_count": 21,
     "metadata": {},
     "output_type": "execute_result"
    }
   ],
   "source": [
    "1/y"
   ]
  },
  {
   "cell_type": "code",
   "execution_count": 22,
   "metadata": {
    "ExecuteTime": {
     "end_time": "2021-01-29T21:43:34.990251Z",
     "start_time": "2021-01-29T21:43:34.968120Z"
    }
   },
   "outputs": [],
   "source": [
    "#Function to get n_0 from a given beta.\n",
    "def n_0(be):\n",
    "    return (y*be)/(1-(y*be))\n",
    "\n",
    "#Function to confirm tha value of the prior_sigma with the beta we choose. \n",
    "def prior_sigma_f(n0,be):\n",
    "    return (n0*prior_alpha)/(2*be*(n0+1))"
   ]
  },
  {
   "cell_type": "markdown",
   "metadata": {},
   "source": [
    "We select the value of $\\beta$:"
   ]
  },
  {
   "cell_type": "code",
   "execution_count": 23,
   "metadata": {
    "ExecuteTime": {
     "end_time": "2021-01-29T21:43:36.026826Z",
     "start_time": "2021-01-29T21:43:36.011195Z"
    }
   },
   "outputs": [],
   "source": [
    "beta = 4.2"
   ]
  },
  {
   "cell_type": "markdown",
   "metadata": {},
   "source": [
    "We verify that we get the same value for prior_sigma from beta:"
   ]
  },
  {
   "cell_type": "code",
   "execution_count": 24,
   "metadata": {
    "ExecuteTime": {
     "end_time": "2021-01-29T21:43:37.064612Z",
     "start_time": "2021-01-29T21:43:37.048986Z"
    }
   },
   "outputs": [
    {
     "name": "stdout",
     "output_type": "stream",
     "text": [
      "0.25609907828237555\n",
      "0.25609907828237555\n"
     ]
    },
    {
     "data": {
      "text/plain": [
       "(None, None)"
      ]
     },
     "execution_count": 24,
     "metadata": {},
     "output_type": "execute_result"
    }
   ],
   "source": [
    "print(prior_sigma), print(prior_sigma_f(n_0(beta),beta))"
   ]
  },
  {
   "cell_type": "markdown",
   "metadata": {
    "ExecuteTime": {
     "end_time": "2021-01-23T20:41:01.232435Z",
     "start_time": "2021-01-23T20:41:01.226118Z"
    }
   },
   "source": [
    "Now we calculate $\\mu_n$ with formula number \\ref{mun}, where $\\bar{s}$ is the mean of the observed own experience (\\ref{Obs}). Also we calculate the posterior_alpha."
   ]
  },
  {
   "cell_type": "code",
   "execution_count": 25,
   "metadata": {
    "ExecuteTime": {
     "end_time": "2021-01-29T21:43:38.681271Z",
     "start_time": "2021-01-29T21:43:38.665643Z"
    }
   },
   "outputs": [
    {
     "name": "stdout",
     "output_type": "stream",
     "text": [
      "8.809678600904286 9.710335700457867\n"
     ]
    }
   ],
   "source": [
    "def mu_m(n0):\n",
    "    return ((n0*prior_mu)+(5*np.mean(EXP['Log_Experience'])))/(n0+5)\n",
    "\n",
    "posterior_alpha = prior_alpha + 5\n",
    "posterior_mu = mu_m(n_0(beta))\n",
    "print(posterior_alpha, posterior_mu)"
   ]
  },
  {
   "cell_type": "markdown",
   "metadata": {},
   "source": [
    "We observe that the mean of the experience is smaller than the prior_mu."
   ]
  },
  {
   "cell_type": "code",
   "execution_count": 26,
   "metadata": {
    "ExecuteTime": {
     "end_time": "2021-01-29T21:43:42.507826Z",
     "start_time": "2021-01-29T21:43:42.492517Z"
    }
   },
   "outputs": [
    {
     "name": "stdout",
     "output_type": "stream",
     "text": [
      "9.643520502937259\n",
      "9.9678844137989\n"
     ]
    }
   ],
   "source": [
    "print(np.mean(EXP['Log_Experience'])) \n",
    "print(prior_mu)"
   ]
  },
  {
   "cell_type": "markdown",
   "metadata": {},
   "source": [
    "Therefore we have to give $\\beta$ a value such that the posterior_mu is smaller than  the prior_mu."
   ]
  },
  {
   "cell_type": "code",
   "execution_count": 27,
   "metadata": {
    "ExecuteTime": {
     "end_time": "2021-01-29T21:44:05.874491Z",
     "start_time": "2021-01-29T21:44:05.843559Z"
    }
   },
   "outputs": [
    {
     "data": {
      "text/plain": [
       "(9.710335700457867, 9.9678844137989)"
      ]
     },
     "execution_count": 27,
     "metadata": {},
     "output_type": "execute_result"
    }
   ],
   "source": [
    "posterior_mu, prior_mu"
   ]
  },
  {
   "cell_type": "markdown",
   "metadata": {},
   "source": [
    "Now that we get posterior_mu and posterior_alpha, we have to fit the logSimulations to the posterior Student distribution with fixed alpha and mu parameters as follows to get posterior_sigma:"
   ]
  },
  {
   "cell_type": "code",
   "execution_count": 28,
   "metadata": {
    "ExecuteTime": {
     "end_time": "2021-01-29T21:44:08.413341Z",
     "start_time": "2021-01-29T21:44:07.427029Z"
    }
   },
   "outputs": [
    {
     "name": "stdout",
     "output_type": "stream",
     "text": [
      "8.809678600904286 9.710335700457867 0.37841796874999944\n"
     ]
    }
   ],
   "source": [
    "observed = list(map(lambda x: np.percentile(log_Simulations, x) , list(range(1,101))))\n",
    "posterior_alpha, posterior_mu, posterior_sigma = stats.t.fit(observed, fdf=posterior_alpha, floc=posterior_mu)\n",
    "print(posterior_alpha, posterior_mu, posterior_sigma)"
   ]
  },
  {
   "cell_type": "markdown",
   "metadata": {},
   "source": [
    "Now that we also have the posterior hyperparameters we put them together with the prior hyperparameters for a comparison:"
   ]
  },
  {
   "cell_type": "code",
   "execution_count": 29,
   "metadata": {
    "ExecuteTime": {
     "end_time": "2021-01-29T21:44:10.839461Z",
     "start_time": "2021-01-29T21:44:10.808541Z"
    }
   },
   "outputs": [
    {
     "data": {
      "text/html": [
       "<div>\n",
       "<style scoped>\n",
       "    .dataframe tbody tr th:only-of-type {\n",
       "        vertical-align: middle;\n",
       "    }\n",
       "\n",
       "    .dataframe tbody tr th {\n",
       "        vertical-align: top;\n",
       "    }\n",
       "\n",
       "    .dataframe thead th {\n",
       "        text-align: right;\n",
       "    }\n",
       "</style>\n",
       "<table border=\"1\" class=\"dataframe\">\n",
       "  <thead>\n",
       "    <tr style=\"text-align: right;\">\n",
       "      <th></th>\n",
       "      <th>Prior</th>\n",
       "      <th>Posterior</th>\n",
       "    </tr>\n",
       "  </thead>\n",
       "  <tbody>\n",
       "    <tr>\n",
       "      <th>Alpha</th>\n",
       "      <td>3.80968</td>\n",
       "      <td>8.80968</td>\n",
       "    </tr>\n",
       "    <tr>\n",
       "      <th>Mu</th>\n",
       "      <td>9.96788</td>\n",
       "      <td>9.71034</td>\n",
       "    </tr>\n",
       "    <tr>\n",
       "      <th>Sigma</th>\n",
       "      <td>0.256099</td>\n",
       "      <td>0.378418</td>\n",
       "    </tr>\n",
       "  </tbody>\n",
       "</table>\n",
       "</div>"
      ],
      "text/plain": [
       "          Prior Posterior\n",
       "Alpha   3.80968   8.80968\n",
       "Mu      9.96788   9.71034\n",
       "Sigma  0.256099  0.378418"
      ]
     },
     "execution_count": 29,
     "metadata": {},
     "output_type": "execute_result"
    }
   ],
   "source": [
    "Params = pd.DataFrame([['Alpha', 'Mu', 'Sigma'], \n",
    "                         [prior_alpha, prior_mu, prior_sigma], \n",
    "                         [posterior_alpha, posterior_mu, posterior_sigma]]).T\n",
    "Params.columns = ['Parameter', 'Prior', 'Posterior']\n",
    "Params.rename(index=Params.Parameter, inplace=True)\n",
    "del Params['Parameter']\n",
    "Params"
   ]
  },
  {
   "cell_type": "markdown",
   "metadata": {},
   "source": [
    "Also we plot both densities to see how much they differ."
   ]
  },
  {
   "cell_type": "code",
   "execution_count": 30,
   "metadata": {
    "ExecuteTime": {
     "end_time": "2021-01-29T21:44:13.965673Z",
     "start_time": "2021-01-29T21:44:13.787264Z"
    }
   },
   "outputs": [
    {
     "data": {
      "text/plain": [
       "<Figure size 864x864 with 0 Axes>"
      ]
     },
     "metadata": {},
     "output_type": "display_data"
    },
    {
     "data": {
      "image/png": "[encoded data removed]",
      "text/plain": [
       "<Figure size 432x288 with 1 Axes>"
      ]
     },
     "metadata": {
      "needs_background": "light"
     },
     "output_type": "display_data"
    }
   ],
   "source": [
    "plt.figure(figsize=(12,12))\n",
    "\n",
    "fig, ax = plt.subplots(1, 1)\n",
    "\n",
    "x = np.linspace(stats.t.ppf(0.001,df=prior_alpha,loc=prior_mu,scale=prior_sigma),\n",
    "                stats.t.ppf(0.999,df=prior_alpha,loc=prior_mu,scale=prior_sigma), 100)\n",
    "rv = stats.t(df=prior_alpha,loc=prior_mu,scale=prior_sigma)\n",
    "\n",
    "ax.plot(x, rv.pdf(x), label='Prior Student Distribution')\n",
    "\n",
    "y = np.linspace(stats.t.ppf(0.001,df=posterior_alpha,loc=posterior_mu,scale=posterior_sigma),\n",
    "                stats.t.ppf(0.999,df=posterior_alpha,loc=posterior_mu,scale=posterior_sigma), 100)\n",
    "rv2 = stats.t(df=posterior_alpha,loc=posterior_mu,scale=posterior_sigma)\n",
    "\n",
    "ax.plot(y, rv2.pdf(y), label='Posterior Student Distribution')\n",
    "\n",
    "\n",
    "plt.title('Prior vs Posterior Distribution')\n",
    "y = plt.gca().title\n",
    "y.set_fontsize(24)\n",
    "y.set_color('black')\n",
    "\n",
    "plt.legend(bbox_to_anchor=(1, 1), borderaxespad=0.5,fontsize='large')\n",
    "\n",
    "plt.show()"
   ]
  },
  {
   "cell_type": "markdown",
   "metadata": {},
   "source": [
    "## Risk Process"
   ]
  },
  {
   "cell_type": "markdown",
   "metadata": {},
   "source": [
    "Now that we have the posterior distribution, we can proceed to code the risk process \\ref{Risk_Process}. We have that the return rate to be paid to the shareholders is 12%, the low risk return rate on investments is 5% and that the initial capital $C_{0}$ has to be such that the probability of solvency in a 1-year horizon is 99.5%."
   ]
  },
  {
   "cell_type": "code",
   "execution_count": 31,
   "metadata": {
    "ExecuteTime": {
     "end_time": "2021-01-29T21:44:18.284717Z",
     "start_time": "2021-01-29T21:44:18.262584Z"
    }
   },
   "outputs": [],
   "source": [
    "r, rf = 0.12, 0.05\n",
    "sev_time = [1, 5, 10]"
   ]
  },
  {
   "cell_type": "code",
   "execution_count": 32,
   "metadata": {
    "ExecuteTime": {
     "end_time": "2021-01-29T21:44:23.560305Z",
     "start_time": "2021-01-29T21:44:23.544655Z"
    }
   },
   "outputs": [
    {
     "data": {
      "text/plain": [
       "(8.809678600904286, 9.710335700457867, 0.37841796874999944)"
      ]
     },
     "execution_count": 32,
     "metadata": {},
     "output_type": "execute_result"
    }
   ],
   "source": [
    "posterior_alpha, posterior_mu, posterior_sigma"
   ]
  },
  {
   "cell_type": "code",
   "execution_count": 33,
   "metadata": {
    "ExecuteTime": {
     "end_time": "2021-01-29T21:44:24.634205Z",
     "start_time": "2021-01-29T21:44:24.614127Z"
    }
   },
   "outputs": [
    {
     "name": "stdout",
     "output_type": "stream",
     "text": [
      "9.710335700457867 10.946886767696329 1.2365510672384623\n"
     ]
    }
   ],
   "source": [
    "post_mean = stats.t.mean(df=posterior_alpha, loc=posterior_mu, scale=posterior_sigma)\n",
    "post_median = stats.t.ppf(0.5,df=posterior_alpha, loc=posterior_mu, scale=posterior_sigma)\n",
    "post_VaR = stats.t.ppf(0.995,df=posterior_alpha, loc=posterior_mu, scale=posterior_sigma)\n",
    "post_SCR = post_VaR - post_median\n",
    "print(post_median, post_VaR, post_SCR)"
   ]
  },
  {
   "cell_type": "code",
   "execution_count": 34,
   "metadata": {
    "ExecuteTime": {
     "end_time": "2021-01-29T21:44:26.050714Z",
     "start_time": "2021-01-29T21:44:26.013184Z"
    }
   },
   "outputs": [],
   "source": [
    "from math import exp"
   ]
  },
  {
   "cell_type": "code",
   "execution_count": 35,
   "metadata": {
    "ExecuteTime": {
     "end_time": "2021-01-29T21:44:30.306272Z",
     "start_time": "2021-01-29T21:44:30.284137Z"
    }
   },
   "outputs": [],
   "source": [
    "berri_VaR = exp(post_VaR)"
   ]
  },
  {
   "cell_type": "code",
   "execution_count": 36,
   "metadata": {
    "ExecuteTime": {
     "end_time": "2021-01-29T21:44:31.349509Z",
     "start_time": "2021-01-29T21:44:31.331427Z"
    }
   },
   "outputs": [],
   "source": [
    "berri_med=exp(post_median)"
   ]
  },
  {
   "cell_type": "code",
   "execution_count": 37,
   "metadata": {
    "ExecuteTime": {
     "end_time": "2021-01-29T21:44:32.375913Z",
     "start_time": "2021-01-29T21:44:32.357763Z"
    }
   },
   "outputs": [
    {
     "data": {
      "text/plain": [
       "16487.13568686504"
      ]
     },
     "execution_count": 37,
     "metadata": {},
     "output_type": "execute_result"
    }
   ],
   "source": [
    "berri_med"
   ]
  },
  {
   "cell_type": "code",
   "execution_count": 38,
   "metadata": {
    "ExecuteTime": {
     "end_time": "2021-01-29T21:44:33.403478Z",
     "start_time": "2021-01-29T21:44:33.377607Z"
    }
   },
   "outputs": [
    {
     "data": {
      "text/plain": [
       "56777.009911599846"
      ]
     },
     "execution_count": 38,
     "metadata": {},
     "output_type": "execute_result"
    }
   ],
   "source": [
    "berri_VaR"
   ]
  },
  {
   "cell_type": "code",
   "execution_count": 39,
   "metadata": {
    "ExecuteTime": {
     "end_time": "2021-01-29T21:44:34.413021Z",
     "start_time": "2021-01-29T21:44:34.403018Z"
    }
   },
   "outputs": [],
   "source": [
    "berri_SCR = berri_VaR - berri_med"
   ]
  },
  {
   "cell_type": "code",
   "execution_count": 40,
   "metadata": {
    "ExecuteTime": {
     "end_time": "2021-01-29T21:44:35.860160Z",
     "start_time": "2021-01-29T21:44:35.844540Z"
    }
   },
   "outputs": [
    {
     "data": {
      "text/plain": [
       "40289.874224734805"
      ]
     },
     "execution_count": 40,
     "metadata": {},
     "output_type": "execute_result"
    }
   ],
   "source": [
    "berri_SCR"
   ]
  },
  {
   "cell_type": "code",
   "execution_count": 41,
   "metadata": {
    "ExecuteTime": {
     "end_time": "2021-01-29T21:44:40.266068Z",
     "start_time": "2021-01-29T21:44:40.250447Z"
    }
   },
   "outputs": [
    {
     "data": {
      "text/plain": [
       "19307.426882596475"
      ]
     },
     "execution_count": 41,
     "metadata": {},
     "output_type": "execute_result"
    }
   ],
   "source": [
    "p = berri_med + (r - rf) * berri_SCR\n",
    "p"
   ]
  },
  {
   "cell_type": "code",
   "execution_count": 42,
   "metadata": {
    "ExecuteTime": {
     "end_time": "2021-01-29T21:44:45.176176Z",
     "start_time": "2021-01-29T21:44:45.160521Z"
    }
   },
   "outputs": [
    {
     "data": {
      "text/plain": [
       "10.946886767696329"
      ]
     },
     "execution_count": 42,
     "metadata": {},
     "output_type": "execute_result"
    }
   ],
   "source": [
    "C0 = post_VaR\n",
    "C0"
   ]
  },
  {
   "cell_type": "code",
   "execution_count": 43,
   "metadata": {
    "ExecuteTime": {
     "end_time": "2021-01-29T21:44:46.414475Z",
     "start_time": "2021-01-29T21:44:46.383194Z"
    }
   },
   "outputs": [
    {
     "data": {
      "text/plain": [
       "10.946886767696329"
      ]
     },
     "execution_count": 43,
     "metadata": {},
     "output_type": "execute_result"
    }
   ],
   "source": [
    "post_VaR"
   ]
  },
  {
   "cell_type": "code",
   "execution_count": 44,
   "metadata": {
    "ExecuteTime": {
     "end_time": "2021-01-29T21:44:47.461514Z",
     "start_time": "2021-01-29T21:44:47.443406Z"
    }
   },
   "outputs": [
    {
     "data": {
      "text/plain": [
       "1.2365510672384623"
      ]
     },
     "execution_count": 44,
     "metadata": {},
     "output_type": "execute_result"
    }
   ],
   "source": [
    "post_SCR"
   ]
  },
  {
   "cell_type": "code",
   "execution_count": 45,
   "metadata": {
    "ExecuteTime": {
     "end_time": "2021-01-29T21:44:49.451279Z",
     "start_time": "2021-01-29T21:44:49.435660Z"
    }
   },
   "outputs": [
    {
     "data": {
      "text/plain": [
       "19307.426882596475"
      ]
     },
     "execution_count": 45,
     "metadata": {},
     "output_type": "execute_result"
    }
   ],
   "source": [
    "p"
   ]
  },
  {
   "cell_type": "code",
   "execution_count": 46,
   "metadata": {
    "ExecuteTime": {
     "end_time": "2021-01-29T21:44:50.529168Z",
     "start_time": "2021-01-29T21:44:50.509098Z"
    }
   },
   "outputs": [],
   "source": [
    "from math import exp"
   ]
  },
  {
   "cell_type": "code",
   "execution_count": 47,
   "metadata": {
    "ExecuteTime": {
     "end_time": "2021-01-29T21:44:51.546127Z",
     "start_time": "2021-01-29T21:44:51.530420Z"
    }
   },
   "outputs": [
    {
     "data": {
      "text/plain": [
       "56777.009911599846"
      ]
     },
     "execution_count": 47,
     "metadata": {},
     "output_type": "execute_result"
    }
   ],
   "source": [
    "berri_VaR"
   ]
  },
  {
   "cell_type": "code",
   "execution_count": 57,
   "metadata": {
    "ExecuteTime": {
     "end_time": "2021-01-29T17:55:12.898883Z",
     "start_time": "2021-01-29T17:55:12.874867Z"
    }
   },
   "outputs": [
    {
     "data": {
      "text/plain": [
       "16487.13568686504"
      ]
     },
     "execution_count": 57,
     "metadata": {},
     "output_type": "execute_result"
    }
   ],
   "source": [
    "berri_med"
   ]
  },
  {
   "cell_type": "code",
   "execution_count": 59,
   "metadata": {
    "ExecuteTime": {
     "end_time": "2021-01-29T17:55:49.898637Z",
     "start_time": "2021-01-29T17:55:49.874629Z"
    }
   },
   "outputs": [
    {
     "data": {
      "text/plain": [
       "56777.009911599846"
      ]
     },
     "execution_count": 59,
     "metadata": {},
     "output_type": "execute_result"
    }
   ],
   "source": [
    "berri_VaR"
   ]
  },
  {
   "cell_type": "code",
   "execution_count": 78,
   "metadata": {
    "ExecuteTime": {
     "end_time": "2021-01-30T01:12:17.273404Z",
     "start_time": "2021-01-30T01:12:17.253432Z"
    }
   },
   "outputs": [
    {
     "data": {
      "text/plain": [
       "40289.874224734805"
      ]
     },
     "execution_count": 78,
     "metadata": {},
     "output_type": "execute_result"
    }
   ],
   "source": [
    "berri_SCR"
   ]
  },
  {
   "cell_type": "code",
   "execution_count": 80,
   "metadata": {
    "ExecuteTime": {
     "end_time": "2021-01-30T01:13:02.540939Z",
     "start_time": "2021-01-30T01:13:02.535953Z"
    }
   },
   "outputs": [],
   "source": [
    "c0 = (1-(r-rf))*berri_SCR"
   ]
  },
  {
   "cell_type": "code",
   "execution_count": 81,
   "metadata": {
    "ExecuteTime": {
     "end_time": "2021-01-30T01:13:08.192667Z",
     "start_time": "2021-01-30T01:13:08.182696Z"
    }
   },
   "outputs": [
    {
     "data": {
      "text/plain": [
       "37469.58302900337"
      ]
     },
     "execution_count": 81,
     "metadata": {},
     "output_type": "execute_result"
    }
   ],
   "source": [
    "c0"
   ]
  },
  {
   "cell_type": "code",
   "execution_count": 50,
   "metadata": {
    "ExecuteTime": {
     "end_time": "2021-01-29T21:45:12.443643Z",
     "start_time": "2021-01-29T21:45:12.428288Z"
    }
   },
   "outputs": [
    {
     "data": {
      "text/plain": [
       "19307.426882596475"
      ]
     },
     "execution_count": 50,
     "metadata": {},
     "output_type": "execute_result"
    }
   ],
   "source": [
    "p "
   ]
  },
  {
   "cell_type": "code",
   "execution_count": 51,
   "metadata": {
    "ExecuteTime": {
     "end_time": "2021-01-29T21:45:13.482241Z",
     "start_time": "2021-01-29T21:45:13.456537Z"
    }
   },
   "outputs": [
    {
     "data": {
      "text/plain": [
       "0.05"
      ]
     },
     "execution_count": 51,
     "metadata": {},
     "output_type": "execute_result"
    }
   ],
   "source": [
    "rf "
   ]
  },
  {
   "cell_type": "code",
   "execution_count": 84,
   "metadata": {
    "ExecuteTime": {
     "end_time": "2021-01-29T18:31:50.852883Z",
     "start_time": "2021-01-29T18:31:50.716751Z"
    }
   },
   "outputs": [],
   "source": [
    " prueba = (np.exp(stats.t.rvs(df=posterior_alpha, loc=posterior_mu, scale=posterior_sigma,size = 1000000))).tolist()"
   ]
  },
  {
   "cell_type": "code",
   "execution_count": 52,
   "metadata": {
    "ExecuteTime": {
     "end_time": "2021-01-29T23:46:24.902276Z",
     "start_time": "2021-01-29T23:46:24.670248Z"
    }
   },
   "outputs": [],
   "source": [
    "Sim_S = pd.DataFrame({\"Año 1\":(np.exp(stats.t.rvs(df=posterior_alpha, loc=posterior_mu, scale=posterior_sigma,size = 1000000))).tolist()})"
   ]
  },
  {
   "cell_type": "code",
   "execution_count": 53,
   "metadata": {
    "ExecuteTime": {
     "end_time": "2021-01-29T23:46:37.980111Z",
     "start_time": "2021-01-29T23:46:37.772060Z"
    }
   },
   "outputs": [],
   "source": [
    "Sim_S[\"Año 2\"] = (np.exp(stats.t.rvs(df=posterior_alpha, loc=posterior_mu, scale=posterior_sigma,size = 1000000))).tolist()"
   ]
  },
  {
   "cell_type": "code",
   "execution_count": 54,
   "metadata": {
    "ExecuteTime": {
     "end_time": "2021-01-29T23:46:40.125896Z",
     "start_time": "2021-01-29T23:46:39.937451Z"
    },
    "cell_style": "split"
   },
   "outputs": [],
   "source": [
    "Sim_S[\"Año 3\"] = (np.exp(stats.t.rvs(df=posterior_alpha, loc=posterior_mu, scale=posterior_sigma,size = 1000000))).tolist()"
   ]
  },
  {
   "cell_type": "code",
   "execution_count": 55,
   "metadata": {
    "ExecuteTime": {
     "end_time": "2021-01-29T23:46:42.307733Z",
     "start_time": "2021-01-29T23:46:42.115890Z"
    }
   },
   "outputs": [],
   "source": [
    "Sim_S[\"Año 4\"] = (np.exp(stats.t.rvs(df=posterior_alpha, loc=posterior_mu, scale=posterior_sigma,size = 1000000))).tolist()"
   ]
  },
  {
   "cell_type": "code",
   "execution_count": 56,
   "metadata": {
    "ExecuteTime": {
     "end_time": "2021-01-29T23:46:44.446965Z",
     "start_time": "2021-01-29T23:46:44.255115Z"
    }
   },
   "outputs": [],
   "source": [
    "Sim_S[\"Año 5\"] = (np.exp(stats.t.rvs(df=posterior_alpha, loc=posterior_mu, scale=posterior_sigma,size = 1000000))).tolist()"
   ]
  },
  {
   "cell_type": "code",
   "execution_count": 57,
   "metadata": {
    "ExecuteTime": {
     "end_time": "2021-01-29T23:46:57.937158Z",
     "start_time": "2021-01-29T23:46:57.921163Z"
    }
   },
   "outputs": [
    {
     "data": {
      "text/html": [
       "<div>\n",
       "<style scoped>\n",
       "    .dataframe tbody tr th:only-of-type {\n",
       "        vertical-align: middle;\n",
       "    }\n",
       "\n",
       "    .dataframe tbody tr th {\n",
       "        vertical-align: top;\n",
       "    }\n",
       "\n",
       "    .dataframe thead th {\n",
       "        text-align: right;\n",
       "    }\n",
       "</style>\n",
       "<table border=\"1\" class=\"dataframe\">\n",
       "  <thead>\n",
       "    <tr style=\"text-align: right;\">\n",
       "      <th></th>\n",
       "      <th>Año 1</th>\n",
       "      <th>Año 2</th>\n",
       "      <th>Año 3</th>\n",
       "      <th>Año 4</th>\n",
       "      <th>Año 5</th>\n",
       "    </tr>\n",
       "  </thead>\n",
       "  <tbody>\n",
       "    <tr>\n",
       "      <th>0</th>\n",
       "      <td>15038.186456</td>\n",
       "      <td>5809.476196</td>\n",
       "      <td>27928.673925</td>\n",
       "      <td>12165.240774</td>\n",
       "      <td>19404.465497</td>\n",
       "    </tr>\n",
       "    <tr>\n",
       "      <th>1</th>\n",
       "      <td>13843.763668</td>\n",
       "      <td>24048.711297</td>\n",
       "      <td>15381.777782</td>\n",
       "      <td>11782.432754</td>\n",
       "      <td>26584.885222</td>\n",
       "    </tr>\n",
       "    <tr>\n",
       "      <th>2</th>\n",
       "      <td>11642.963712</td>\n",
       "      <td>13679.091598</td>\n",
       "      <td>12013.380628</td>\n",
       "      <td>27213.495971</td>\n",
       "      <td>10637.729589</td>\n",
       "    </tr>\n",
       "    <tr>\n",
       "      <th>3</th>\n",
       "      <td>41296.157277</td>\n",
       "      <td>26862.862820</td>\n",
       "      <td>14713.426142</td>\n",
       "      <td>5369.769558</td>\n",
       "      <td>29826.470498</td>\n",
       "    </tr>\n",
       "    <tr>\n",
       "      <th>4</th>\n",
       "      <td>16396.305241</td>\n",
       "      <td>15395.728088</td>\n",
       "      <td>7775.321811</td>\n",
       "      <td>24055.674712</td>\n",
       "      <td>20502.909616</td>\n",
       "    </tr>\n",
       "    <tr>\n",
       "      <th>...</th>\n",
       "      <td>...</td>\n",
       "      <td>...</td>\n",
       "      <td>...</td>\n",
       "      <td>...</td>\n",
       "      <td>...</td>\n",
       "    </tr>\n",
       "    <tr>\n",
       "      <th>999995</th>\n",
       "      <td>11638.900482</td>\n",
       "      <td>23868.306401</td>\n",
       "      <td>23775.888925</td>\n",
       "      <td>28354.541067</td>\n",
       "      <td>9539.856757</td>\n",
       "    </tr>\n",
       "    <tr>\n",
       "      <th>999996</th>\n",
       "      <td>16053.090946</td>\n",
       "      <td>61885.611196</td>\n",
       "      <td>34963.804045</td>\n",
       "      <td>20980.417757</td>\n",
       "      <td>21785.233004</td>\n",
       "    </tr>\n",
       "    <tr>\n",
       "      <th>999997</th>\n",
       "      <td>17684.606887</td>\n",
       "      <td>20049.002997</td>\n",
       "      <td>19242.800155</td>\n",
       "      <td>10487.529034</td>\n",
       "      <td>23386.969791</td>\n",
       "    </tr>\n",
       "    <tr>\n",
       "      <th>999998</th>\n",
       "      <td>7931.037391</td>\n",
       "      <td>17073.570663</td>\n",
       "      <td>22223.855035</td>\n",
       "      <td>18935.791700</td>\n",
       "      <td>10396.583514</td>\n",
       "    </tr>\n",
       "    <tr>\n",
       "      <th>999999</th>\n",
       "      <td>12059.179485</td>\n",
       "      <td>75818.988648</td>\n",
       "      <td>19705.610101</td>\n",
       "      <td>26593.602707</td>\n",
       "      <td>17592.545358</td>\n",
       "    </tr>\n",
       "  </tbody>\n",
       "</table>\n",
       "<p>1000000 rows × 5 columns</p>\n",
       "</div>"
      ],
      "text/plain": [
       "               Año 1         Año 2         Año 3         Año 4         Año 5\n",
       "0       15038.186456   5809.476196  27928.673925  12165.240774  19404.465497\n",
       "1       13843.763668  24048.711297  15381.777782  11782.432754  26584.885222\n",
       "2       11642.963712  13679.091598  12013.380628  27213.495971  10637.729589\n",
       "3       41296.157277  26862.862820  14713.426142   5369.769558  29826.470498\n",
       "4       16396.305241  15395.728088   7775.321811  24055.674712  20502.909616\n",
       "...              ...           ...           ...           ...           ...\n",
       "999995  11638.900482  23868.306401  23775.888925  28354.541067   9539.856757\n",
       "999996  16053.090946  61885.611196  34963.804045  20980.417757  21785.233004\n",
       "999997  17684.606887  20049.002997  19242.800155  10487.529034  23386.969791\n",
       "999998   7931.037391  17073.570663  22223.855035  18935.791700  10396.583514\n",
       "999999  12059.179485  75818.988648  19705.610101  26593.602707  17592.545358\n",
       "\n",
       "[1000000 rows x 5 columns]"
      ]
     },
     "execution_count": 57,
     "metadata": {},
     "output_type": "execute_result"
    }
   ],
   "source": [
    "Sim_S"
   ]
  },
  {
   "cell_type": "code",
   "execution_count": 58,
   "metadata": {
    "ExecuteTime": {
     "end_time": "2021-01-29T23:47:29.736782Z",
     "start_time": "2021-01-29T23:47:29.680849Z"
    }
   },
   "outputs": [],
   "source": [
    "Sum_S = Sim_S.cumsum(axis=0)"
   ]
  },
  {
   "cell_type": "code",
   "execution_count": 59,
   "metadata": {
    "ExecuteTime": {
     "end_time": "2021-01-29T23:47:31.736778Z",
     "start_time": "2021-01-29T23:47:31.720803Z"
    }
   },
   "outputs": [
    {
     "data": {
      "text/html": [
       "<div>\n",
       "<style scoped>\n",
       "    .dataframe tbody tr th:only-of-type {\n",
       "        vertical-align: middle;\n",
       "    }\n",
       "\n",
       "    .dataframe tbody tr th {\n",
       "        vertical-align: top;\n",
       "    }\n",
       "\n",
       "    .dataframe thead th {\n",
       "        text-align: right;\n",
       "    }\n",
       "</style>\n",
       "<table border=\"1\" class=\"dataframe\">\n",
       "  <thead>\n",
       "    <tr style=\"text-align: right;\">\n",
       "      <th></th>\n",
       "      <th>Año 1</th>\n",
       "      <th>Año 2</th>\n",
       "      <th>Año 3</th>\n",
       "      <th>Año 4</th>\n",
       "      <th>Año 5</th>\n",
       "    </tr>\n",
       "  </thead>\n",
       "  <tbody>\n",
       "    <tr>\n",
       "      <th>0</th>\n",
       "      <td>1.503819e+04</td>\n",
       "      <td>5.809476e+03</td>\n",
       "      <td>2.792867e+04</td>\n",
       "      <td>1.216524e+04</td>\n",
       "      <td>1.940447e+04</td>\n",
       "    </tr>\n",
       "    <tr>\n",
       "      <th>1</th>\n",
       "      <td>2.888195e+04</td>\n",
       "      <td>2.985819e+04</td>\n",
       "      <td>4.331045e+04</td>\n",
       "      <td>2.394767e+04</td>\n",
       "      <td>4.598935e+04</td>\n",
       "    </tr>\n",
       "    <tr>\n",
       "      <th>2</th>\n",
       "      <td>4.052491e+04</td>\n",
       "      <td>4.353728e+04</td>\n",
       "      <td>5.532383e+04</td>\n",
       "      <td>5.116117e+04</td>\n",
       "      <td>5.662708e+04</td>\n",
       "    </tr>\n",
       "    <tr>\n",
       "      <th>3</th>\n",
       "      <td>8.182107e+04</td>\n",
       "      <td>7.040014e+04</td>\n",
       "      <td>7.003726e+04</td>\n",
       "      <td>5.653094e+04</td>\n",
       "      <td>8.645355e+04</td>\n",
       "    </tr>\n",
       "    <tr>\n",
       "      <th>4</th>\n",
       "      <td>9.821738e+04</td>\n",
       "      <td>8.579587e+04</td>\n",
       "      <td>7.781258e+04</td>\n",
       "      <td>8.058661e+04</td>\n",
       "      <td>1.069565e+05</td>\n",
       "    </tr>\n",
       "    <tr>\n",
       "      <th>...</th>\n",
       "      <td>...</td>\n",
       "      <td>...</td>\n",
       "      <td>...</td>\n",
       "      <td>...</td>\n",
       "      <td>...</td>\n",
       "    </tr>\n",
       "    <tr>\n",
       "      <th>999995</th>\n",
       "      <td>1.812364e+10</td>\n",
       "      <td>1.812102e+10</td>\n",
       "      <td>1.810298e+10</td>\n",
       "      <td>1.812049e+10</td>\n",
       "      <td>1.812432e+10</td>\n",
       "    </tr>\n",
       "    <tr>\n",
       "      <th>999996</th>\n",
       "      <td>1.812366e+10</td>\n",
       "      <td>1.812108e+10</td>\n",
       "      <td>1.810301e+10</td>\n",
       "      <td>1.812051e+10</td>\n",
       "      <td>1.812434e+10</td>\n",
       "    </tr>\n",
       "    <tr>\n",
       "      <th>999997</th>\n",
       "      <td>1.812367e+10</td>\n",
       "      <td>1.812110e+10</td>\n",
       "      <td>1.810303e+10</td>\n",
       "      <td>1.812052e+10</td>\n",
       "      <td>1.812437e+10</td>\n",
       "    </tr>\n",
       "    <tr>\n",
       "      <th>999998</th>\n",
       "      <td>1.812368e+10</td>\n",
       "      <td>1.812112e+10</td>\n",
       "      <td>1.810306e+10</td>\n",
       "      <td>1.812054e+10</td>\n",
       "      <td>1.812438e+10</td>\n",
       "    </tr>\n",
       "    <tr>\n",
       "      <th>999999</th>\n",
       "      <td>1.812369e+10</td>\n",
       "      <td>1.812119e+10</td>\n",
       "      <td>1.810307e+10</td>\n",
       "      <td>1.812057e+10</td>\n",
       "      <td>1.812439e+10</td>\n",
       "    </tr>\n",
       "  </tbody>\n",
       "</table>\n",
       "<p>1000000 rows × 5 columns</p>\n",
       "</div>"
      ],
      "text/plain": [
       "               Año 1         Año 2         Año 3         Año 4         Año 5\n",
       "0       1.503819e+04  5.809476e+03  2.792867e+04  1.216524e+04  1.940447e+04\n",
       "1       2.888195e+04  2.985819e+04  4.331045e+04  2.394767e+04  4.598935e+04\n",
       "2       4.052491e+04  4.353728e+04  5.532383e+04  5.116117e+04  5.662708e+04\n",
       "3       8.182107e+04  7.040014e+04  7.003726e+04  5.653094e+04  8.645355e+04\n",
       "4       9.821738e+04  8.579587e+04  7.781258e+04  8.058661e+04  1.069565e+05\n",
       "...              ...           ...           ...           ...           ...\n",
       "999995  1.812364e+10  1.812102e+10  1.810298e+10  1.812049e+10  1.812432e+10\n",
       "999996  1.812366e+10  1.812108e+10  1.810301e+10  1.812051e+10  1.812434e+10\n",
       "999997  1.812367e+10  1.812110e+10  1.810303e+10  1.812052e+10  1.812437e+10\n",
       "999998  1.812368e+10  1.812112e+10  1.810306e+10  1.812054e+10  1.812438e+10\n",
       "999999  1.812369e+10  1.812119e+10  1.810307e+10  1.812057e+10  1.812439e+10\n",
       "\n",
       "[1000000 rows x 5 columns]"
      ]
     },
     "execution_count": 59,
     "metadata": {},
     "output_type": "execute_result"
    }
   ],
   "source": [
    "Sum_S"
   ]
  },
  {
   "cell_type": "code",
   "execution_count": 60,
   "metadata": {
    "ExecuteTime": {
     "end_time": "2021-01-29T23:47:47.873581Z",
     "start_time": "2021-01-29T23:47:47.849595Z"
    }
   },
   "outputs": [
    {
     "data": {
      "text/html": [
       "<div>\n",
       "<style scoped>\n",
       "    .dataframe tbody tr th:only-of-type {\n",
       "        vertical-align: middle;\n",
       "    }\n",
       "\n",
       "    .dataframe tbody tr th {\n",
       "        vertical-align: top;\n",
       "    }\n",
       "\n",
       "    .dataframe thead th {\n",
       "        text-align: right;\n",
       "    }\n",
       "</style>\n",
       "<table border=\"1\" class=\"dataframe\">\n",
       "  <thead>\n",
       "    <tr style=\"text-align: right;\">\n",
       "      <th></th>\n",
       "      <th>Año 1</th>\n",
       "      <th>Año 2</th>\n",
       "      <th>Año 3</th>\n",
       "      <th>Año 4</th>\n",
       "      <th>Año 5</th>\n",
       "    </tr>\n",
       "  </thead>\n",
       "  <tbody>\n",
       "    <tr>\n",
       "      <th>0</th>\n",
       "      <td>1.503819e+04</td>\n",
       "      <td>5.809476e+03</td>\n",
       "      <td>2.792867e+04</td>\n",
       "      <td>1.216524e+04</td>\n",
       "      <td>1.940447e+04</td>\n",
       "    </tr>\n",
       "    <tr>\n",
       "      <th>1</th>\n",
       "      <td>2.888195e+04</td>\n",
       "      <td>2.985819e+04</td>\n",
       "      <td>4.331045e+04</td>\n",
       "      <td>2.394767e+04</td>\n",
       "      <td>4.598935e+04</td>\n",
       "    </tr>\n",
       "    <tr>\n",
       "      <th>2</th>\n",
       "      <td>4.052491e+04</td>\n",
       "      <td>4.353728e+04</td>\n",
       "      <td>5.532383e+04</td>\n",
       "      <td>5.116117e+04</td>\n",
       "      <td>5.662708e+04</td>\n",
       "    </tr>\n",
       "    <tr>\n",
       "      <th>3</th>\n",
       "      <td>8.182107e+04</td>\n",
       "      <td>7.040014e+04</td>\n",
       "      <td>7.003726e+04</td>\n",
       "      <td>5.653094e+04</td>\n",
       "      <td>8.645355e+04</td>\n",
       "    </tr>\n",
       "    <tr>\n",
       "      <th>4</th>\n",
       "      <td>9.821738e+04</td>\n",
       "      <td>8.579587e+04</td>\n",
       "      <td>7.781258e+04</td>\n",
       "      <td>8.058661e+04</td>\n",
       "      <td>1.069565e+05</td>\n",
       "    </tr>\n",
       "    <tr>\n",
       "      <th>...</th>\n",
       "      <td>...</td>\n",
       "      <td>...</td>\n",
       "      <td>...</td>\n",
       "      <td>...</td>\n",
       "      <td>...</td>\n",
       "    </tr>\n",
       "    <tr>\n",
       "      <th>999995</th>\n",
       "      <td>1.812364e+10</td>\n",
       "      <td>1.812102e+10</td>\n",
       "      <td>1.810298e+10</td>\n",
       "      <td>1.812049e+10</td>\n",
       "      <td>1.812432e+10</td>\n",
       "    </tr>\n",
       "    <tr>\n",
       "      <th>999996</th>\n",
       "      <td>1.812366e+10</td>\n",
       "      <td>1.812108e+10</td>\n",
       "      <td>1.810301e+10</td>\n",
       "      <td>1.812051e+10</td>\n",
       "      <td>1.812434e+10</td>\n",
       "    </tr>\n",
       "    <tr>\n",
       "      <th>999997</th>\n",
       "      <td>1.812367e+10</td>\n",
       "      <td>1.812110e+10</td>\n",
       "      <td>1.810303e+10</td>\n",
       "      <td>1.812052e+10</td>\n",
       "      <td>1.812437e+10</td>\n",
       "    </tr>\n",
       "    <tr>\n",
       "      <th>999998</th>\n",
       "      <td>1.812368e+10</td>\n",
       "      <td>1.812112e+10</td>\n",
       "      <td>1.810306e+10</td>\n",
       "      <td>1.812054e+10</td>\n",
       "      <td>1.812438e+10</td>\n",
       "    </tr>\n",
       "    <tr>\n",
       "      <th>999999</th>\n",
       "      <td>1.812369e+10</td>\n",
       "      <td>1.812119e+10</td>\n",
       "      <td>1.810307e+10</td>\n",
       "      <td>1.812057e+10</td>\n",
       "      <td>1.812439e+10</td>\n",
       "    </tr>\n",
       "  </tbody>\n",
       "</table>\n",
       "<p>1000000 rows × 5 columns</p>\n",
       "</div>"
      ],
      "text/plain": [
       "               Año 1         Año 2         Año 3         Año 4         Año 5\n",
       "0       1.503819e+04  5.809476e+03  2.792867e+04  1.216524e+04  1.940447e+04\n",
       "1       2.888195e+04  2.985819e+04  4.331045e+04  2.394767e+04  4.598935e+04\n",
       "2       4.052491e+04  4.353728e+04  5.532383e+04  5.116117e+04  5.662708e+04\n",
       "3       8.182107e+04  7.040014e+04  7.003726e+04  5.653094e+04  8.645355e+04\n",
       "4       9.821738e+04  8.579587e+04  7.781258e+04  8.058661e+04  1.069565e+05\n",
       "...              ...           ...           ...           ...           ...\n",
       "999995  1.812364e+10  1.812102e+10  1.810298e+10  1.812049e+10  1.812432e+10\n",
       "999996  1.812366e+10  1.812108e+10  1.810301e+10  1.812051e+10  1.812434e+10\n",
       "999997  1.812367e+10  1.812110e+10  1.810303e+10  1.812052e+10  1.812437e+10\n",
       "999998  1.812368e+10  1.812112e+10  1.810306e+10  1.812054e+10  1.812438e+10\n",
       "999999  1.812369e+10  1.812119e+10  1.810307e+10  1.812057e+10  1.812439e+10\n",
       "\n",
       "[1000000 rows x 5 columns]"
      ]
     },
     "execution_count": 60,
     "metadata": {},
     "output_type": "execute_result"
    }
   ],
   "source": [
    "Sum_S"
   ]
  },
  {
   "cell_type": "code",
   "execution_count": 61,
   "metadata": {
    "ExecuteTime": {
     "end_time": "2021-01-29T23:47:51.460623Z",
     "start_time": "2021-01-29T23:47:51.450429Z"
    }
   },
   "outputs": [],
   "source": [
    "time = np.array([1,2,3,4,5])*p"
   ]
  },
  {
   "cell_type": "code",
   "execution_count": 62,
   "metadata": {
    "ExecuteTime": {
     "end_time": "2021-01-29T23:47:53.588442Z",
     "start_time": "2021-01-29T23:47:53.572521Z"
    }
   },
   "outputs": [
    {
     "data": {
      "text/plain": [
       "array([19307.4268826 , 38614.85376519, 57922.28064779, 77229.70753039,\n",
       "       96537.13441298])"
      ]
     },
     "execution_count": 62,
     "metadata": {},
     "output_type": "execute_result"
    }
   ],
   "source": [
    "time "
   ]
  },
  {
   "cell_type": "code",
   "execution_count": 82,
   "metadata": {
    "ExecuteTime": {
     "end_time": "2021-01-30T01:13:16.454269Z",
     "start_time": "2021-01-30T01:13:16.434321Z"
    }
   },
   "outputs": [],
   "source": [
    "c0 = [c0] * 1000000"
   ]
  },
  {
   "cell_type": "code",
   "execution_count": null,
   "metadata": {},
   "outputs": [],
   "source": []
  },
  {
   "cell_type": "code",
   "execution_count": null,
   "metadata": {},
   "outputs": [],
   "source": [
    "proceso = "
   ]
  },
  {
   "cell_type": "code",
   "execution_count": null,
   "metadata": {},
   "outputs": [],
   "source": []
  },
  {
   "cell_type": "code",
   "execution_count": null,
   "metadata": {},
   "outputs": [],
   "source": []
  },
  {
   "cell_type": "code",
   "execution_count": null,
   "metadata": {},
   "outputs": [],
   "source": []
  },
  {
   "cell_type": "code",
   "execution_count": null,
   "metadata": {},
   "outputs": [],
   "source": []
  },
  {
   "cell_type": "code",
   "execution_count": null,
   "metadata": {},
   "outputs": [],
   "source": []
  },
  {
   "cell_type": "code",
   "execution_count": null,
   "metadata": {},
   "outputs": [],
   "source": []
  },
  {
   "cell_type": "code",
   "execution_count": null,
   "metadata": {},
   "outputs": [],
   "source": []
  },
  {
   "cell_type": "code",
   "execution_count": 90,
   "metadata": {
    "ExecuteTime": {
     "end_time": "2021-01-30T01:17:21.110433Z",
     "start_time": "2021-01-30T01:17:21.093445Z"
    }
   },
   "outputs": [
    {
     "data": {
      "text/html": [
       "<div>\n",
       "<style scoped>\n",
       "    .dataframe tbody tr th:only-of-type {\n",
       "        vertical-align: middle;\n",
       "    }\n",
       "\n",
       "    .dataframe tbody tr th {\n",
       "        vertical-align: top;\n",
       "    }\n",
       "\n",
       "    .dataframe thead th {\n",
       "        text-align: right;\n",
       "    }\n",
       "</style>\n",
       "<table border=\"1\" class=\"dataframe\">\n",
       "  <thead>\n",
       "    <tr style=\"text-align: right;\">\n",
       "      <th></th>\n",
       "      <th>Año 1</th>\n",
       "      <th>Año 2</th>\n",
       "      <th>Año 3</th>\n",
       "      <th>Año 4</th>\n",
       "      <th>Año 5</th>\n",
       "    </tr>\n",
       "  </thead>\n",
       "  <tbody>\n",
       "    <tr>\n",
       "      <th>0</th>\n",
       "      <td>1.503819e+04</td>\n",
       "      <td>5.809476e+03</td>\n",
       "      <td>2.792867e+04</td>\n",
       "      <td>1.216524e+04</td>\n",
       "      <td>1.940447e+04</td>\n",
       "    </tr>\n",
       "    <tr>\n",
       "      <th>1</th>\n",
       "      <td>2.888195e+04</td>\n",
       "      <td>2.985819e+04</td>\n",
       "      <td>4.331045e+04</td>\n",
       "      <td>2.394767e+04</td>\n",
       "      <td>4.598935e+04</td>\n",
       "    </tr>\n",
       "    <tr>\n",
       "      <th>2</th>\n",
       "      <td>4.052491e+04</td>\n",
       "      <td>4.353728e+04</td>\n",
       "      <td>5.532383e+04</td>\n",
       "      <td>5.116117e+04</td>\n",
       "      <td>5.662708e+04</td>\n",
       "    </tr>\n",
       "    <tr>\n",
       "      <th>3</th>\n",
       "      <td>8.182107e+04</td>\n",
       "      <td>7.040014e+04</td>\n",
       "      <td>7.003726e+04</td>\n",
       "      <td>5.653094e+04</td>\n",
       "      <td>8.645355e+04</td>\n",
       "    </tr>\n",
       "    <tr>\n",
       "      <th>4</th>\n",
       "      <td>9.821738e+04</td>\n",
       "      <td>8.579587e+04</td>\n",
       "      <td>7.781258e+04</td>\n",
       "      <td>8.058661e+04</td>\n",
       "      <td>1.069565e+05</td>\n",
       "    </tr>\n",
       "    <tr>\n",
       "      <th>...</th>\n",
       "      <td>...</td>\n",
       "      <td>...</td>\n",
       "      <td>...</td>\n",
       "      <td>...</td>\n",
       "      <td>...</td>\n",
       "    </tr>\n",
       "    <tr>\n",
       "      <th>999995</th>\n",
       "      <td>1.812364e+10</td>\n",
       "      <td>1.812102e+10</td>\n",
       "      <td>1.810298e+10</td>\n",
       "      <td>1.812049e+10</td>\n",
       "      <td>1.812432e+10</td>\n",
       "    </tr>\n",
       "    <tr>\n",
       "      <th>999996</th>\n",
       "      <td>1.812366e+10</td>\n",
       "      <td>1.812108e+10</td>\n",
       "      <td>1.810301e+10</td>\n",
       "      <td>1.812051e+10</td>\n",
       "      <td>1.812434e+10</td>\n",
       "    </tr>\n",
       "    <tr>\n",
       "      <th>999997</th>\n",
       "      <td>1.812367e+10</td>\n",
       "      <td>1.812110e+10</td>\n",
       "      <td>1.810303e+10</td>\n",
       "      <td>1.812052e+10</td>\n",
       "      <td>1.812437e+10</td>\n",
       "    </tr>\n",
       "    <tr>\n",
       "      <th>999998</th>\n",
       "      <td>1.812368e+10</td>\n",
       "      <td>1.812112e+10</td>\n",
       "      <td>1.810306e+10</td>\n",
       "      <td>1.812054e+10</td>\n",
       "      <td>1.812438e+10</td>\n",
       "    </tr>\n",
       "    <tr>\n",
       "      <th>999999</th>\n",
       "      <td>1.812369e+10</td>\n",
       "      <td>1.812119e+10</td>\n",
       "      <td>1.810307e+10</td>\n",
       "      <td>1.812057e+10</td>\n",
       "      <td>1.812439e+10</td>\n",
       "    </tr>\n",
       "  </tbody>\n",
       "</table>\n",
       "<p>1000000 rows × 5 columns</p>\n",
       "</div>"
      ],
      "text/plain": [
       "               Año 1         Año 2         Año 3         Año 4         Año 5\n",
       "0       1.503819e+04  5.809476e+03  2.792867e+04  1.216524e+04  1.940447e+04\n",
       "1       2.888195e+04  2.985819e+04  4.331045e+04  2.394767e+04  4.598935e+04\n",
       "2       4.052491e+04  4.353728e+04  5.532383e+04  5.116117e+04  5.662708e+04\n",
       "3       8.182107e+04  7.040014e+04  7.003726e+04  5.653094e+04  8.645355e+04\n",
       "4       9.821738e+04  8.579587e+04  7.781258e+04  8.058661e+04  1.069565e+05\n",
       "...              ...           ...           ...           ...           ...\n",
       "999995  1.812364e+10  1.812102e+10  1.810298e+10  1.812049e+10  1.812432e+10\n",
       "999996  1.812366e+10  1.812108e+10  1.810301e+10  1.812051e+10  1.812434e+10\n",
       "999997  1.812367e+10  1.812110e+10  1.810303e+10  1.812052e+10  1.812437e+10\n",
       "999998  1.812368e+10  1.812112e+10  1.810306e+10  1.812054e+10  1.812438e+10\n",
       "999999  1.812369e+10  1.812119e+10  1.810307e+10  1.812057e+10  1.812439e+10\n",
       "\n",
       "[1000000 rows x 5 columns]"
      ]
     },
     "execution_count": 90,
     "metadata": {},
     "output_type": "execute_result"
    }
   ],
   "source": [
    "Sum_S"
   ]
  },
  {
   "cell_type": "code",
   "execution_count": 91,
   "metadata": {
    "ExecuteTime": {
     "end_time": "2021-01-30T01:17:44.220836Z",
     "start_time": "2021-01-30T01:17:44.210865Z"
    }
   },
   "outputs": [
    {
     "data": {
      "text/html": [
       "<div>\n",
       "<style scoped>\n",
       "    .dataframe tbody tr th:only-of-type {\n",
       "        vertical-align: middle;\n",
       "    }\n",
       "\n",
       "    .dataframe tbody tr th {\n",
       "        vertical-align: top;\n",
       "    }\n",
       "\n",
       "    .dataframe thead th {\n",
       "        text-align: right;\n",
       "    }\n",
       "</style>\n",
       "<table border=\"1\" class=\"dataframe\">\n",
       "  <thead>\n",
       "    <tr style=\"text-align: right;\">\n",
       "      <th></th>\n",
       "      <th>Monto de primas en t</th>\n",
       "    </tr>\n",
       "  </thead>\n",
       "  <tbody>\n",
       "    <tr>\n",
       "      <th>0</th>\n",
       "      <td>19307.426883</td>\n",
       "    </tr>\n",
       "    <tr>\n",
       "      <th>1</th>\n",
       "      <td>38614.853765</td>\n",
       "    </tr>\n",
       "    <tr>\n",
       "      <th>2</th>\n",
       "      <td>57922.280648</td>\n",
       "    </tr>\n",
       "    <tr>\n",
       "      <th>3</th>\n",
       "      <td>77229.707530</td>\n",
       "    </tr>\n",
       "    <tr>\n",
       "      <th>4</th>\n",
       "      <td>96537.134413</td>\n",
       "    </tr>\n",
       "  </tbody>\n",
       "</table>\n",
       "</div>"
      ],
      "text/plain": [
       "   Monto de primas en t \n",
       "0           19307.426883\n",
       "1           38614.853765\n",
       "2           57922.280648\n",
       "3           77229.707530\n",
       "4           96537.134413"
      ]
     },
     "execution_count": 91,
     "metadata": {},
     "output_type": "execute_result"
    }
   ],
   "source": [
    "pi_t "
   ]
  },
  {
   "cell_type": "code",
   "execution_count": 92,
   "metadata": {
    "ExecuteTime": {
     "end_time": "2021-01-30T01:18:05.829341Z",
     "start_time": "2021-01-30T01:18:05.819368Z"
    }
   },
   "outputs": [
    {
     "data": {
      "text/html": [
       "<div>\n",
       "<style scoped>\n",
       "    .dataframe tbody tr th:only-of-type {\n",
       "        vertical-align: middle;\n",
       "    }\n",
       "\n",
       "    .dataframe tbody tr th {\n",
       "        vertical-align: top;\n",
       "    }\n",
       "\n",
       "    .dataframe thead th {\n",
       "        text-align: right;\n",
       "    }\n",
       "</style>\n",
       "<table border=\"1\" class=\"dataframe\">\n",
       "  <thead>\n",
       "    <tr style=\"text-align: right;\">\n",
       "      <th></th>\n",
       "      <th>Capital</th>\n",
       "    </tr>\n",
       "  </thead>\n",
       "  <tbody>\n",
       "    <tr>\n",
       "      <th>0</th>\n",
       "      <td>37469.583029</td>\n",
       "    </tr>\n",
       "    <tr>\n",
       "      <th>1</th>\n",
       "      <td>37469.583029</td>\n",
       "    </tr>\n",
       "    <tr>\n",
       "      <th>2</th>\n",
       "      <td>37469.583029</td>\n",
       "    </tr>\n",
       "    <tr>\n",
       "      <th>3</th>\n",
       "      <td>37469.583029</td>\n",
       "    </tr>\n",
       "    <tr>\n",
       "      <th>4</th>\n",
       "      <td>37469.583029</td>\n",
       "    </tr>\n",
       "    <tr>\n",
       "      <th>...</th>\n",
       "      <td>...</td>\n",
       "    </tr>\n",
       "    <tr>\n",
       "      <th>999995</th>\n",
       "      <td>37469.583029</td>\n",
       "    </tr>\n",
       "    <tr>\n",
       "      <th>999996</th>\n",
       "      <td>37469.583029</td>\n",
       "    </tr>\n",
       "    <tr>\n",
       "      <th>999997</th>\n",
       "      <td>37469.583029</td>\n",
       "    </tr>\n",
       "    <tr>\n",
       "      <th>999998</th>\n",
       "      <td>37469.583029</td>\n",
       "    </tr>\n",
       "    <tr>\n",
       "      <th>999999</th>\n",
       "      <td>37469.583029</td>\n",
       "    </tr>\n",
       "  </tbody>\n",
       "</table>\n",
       "<p>1000000 rows × 1 columns</p>\n",
       "</div>"
      ],
      "text/plain": [
       "             Capital\n",
       "0       37469.583029\n",
       "1       37469.583029\n",
       "2       37469.583029\n",
       "3       37469.583029\n",
       "4       37469.583029\n",
       "...              ...\n",
       "999995  37469.583029\n",
       "999996  37469.583029\n",
       "999997  37469.583029\n",
       "999998  37469.583029\n",
       "999999  37469.583029\n",
       "\n",
       "[1000000 rows x 1 columns]"
      ]
     },
     "execution_count": 92,
     "metadata": {},
     "output_type": "execute_result"
    }
   ],
   "source": [
    "Capital"
   ]
  },
  {
   "cell_type": "code",
   "execution_count": null,
   "metadata": {},
   "outputs": [],
   "source": []
  },
  {
   "cell_type": "code",
   "execution_count": null,
   "metadata": {},
   "outputs": [],
   "source": []
  },
  {
   "cell_type": "code",
   "execution_count": null,
   "metadata": {},
   "outputs": [],
   "source": []
  },
  {
   "cell_type": "code",
   "execution_count": null,
   "metadata": {},
   "outputs": [],
   "source": []
  },
  {
   "cell_type": "code",
   "execution_count": null,
   "metadata": {},
   "outputs": [],
   "source": []
  },
  {
   "cell_type": "code",
   "execution_count": null,
   "metadata": {},
   "outputs": [],
   "source": []
  },
  {
   "cell_type": "code",
   "execution_count": null,
   "metadata": {},
   "outputs": [],
   "source": []
  },
  {
   "cell_type": "code",
   "execution_count": null,
   "metadata": {},
   "outputs": [],
   "source": []
  },
  {
   "cell_type": "code",
   "execution_count": null,
   "metadata": {},
   "outputs": [],
   "source": []
  },
  {
   "cell_type": "code",
   "execution_count": null,
   "metadata": {},
   "outputs": [],
   "source": []
  },
  {
   "cell_type": "code",
   "execution_count": null,
   "metadata": {},
   "outputs": [],
   "source": []
  },
  {
   "cell_type": "code",
   "execution_count": null,
   "metadata": {},
   "outputs": [],
   "source": []
  },
  {
   "cell_type": "code",
   "execution_count": 152,
   "metadata": {
    "ExecuteTime": {
     "end_time": "2021-01-29T19:29:06.160983Z",
     "start_time": "2021-01-29T19:29:06.152988Z"
    }
   },
   "outputs": [
    {
     "data": {
      "text/plain": [
       "[19307.426882596475,\n",
       " 38614.85376519295,\n",
       " 57922.28064778943,\n",
       " 77229.7075303859,\n",
       " 96537.13441298238]"
      ]
     },
     "execution_count": 152,
     "metadata": {},
     "output_type": "execute_result"
    }
   ],
   "source": [
    "time.tolist()"
   ]
  },
  {
   "cell_type": "code",
   "execution_count": 155,
   "metadata": {
    "ExecuteTime": {
     "end_time": "2021-01-29T19:36:36.995555Z",
     "start_time": "2021-01-29T19:36:36.979565Z"
    },
    "cell_style": "split"
   },
   "outputs": [],
   "source": [
    "c = Sim_S.to_numpy()"
   ]
  },
  {
   "cell_type": "code",
   "execution_count": 156,
   "metadata": {
    "ExecuteTime": {
     "end_time": "2021-01-29T19:36:47.101527Z",
     "start_time": "2021-01-29T19:36:47.085538Z"
    }
   },
   "outputs": [
    {
     "data": {
      "text/plain": [
       "array([[26584.88522161, 10637.72958875, 29826.47049837, ...,\n",
       "        10396.58351383, 17592.54535816, 15705.94887231],\n",
       "       [ 9588.2348388 , 22014.60113982, 20356.97469338, ...,\n",
       "        31346.16412192, 19771.28275307, 18342.9046244 ],\n",
       "       [20244.93001858, 17881.24992154, 14532.88095923, ...,\n",
       "         5529.93118902,  7515.00192884, 40521.62517716],\n",
       "       [ 9574.73868658, 31791.25832873, 15856.89102747, ...,\n",
       "         9820.01375374, 29583.942007  , 16674.13491185],\n",
       "       [13539.36458354, 18065.80817908, 10634.45295782, ...,\n",
       "        16133.14869477, 19876.02962225, 20362.53684722]])"
      ]
     },
     "execution_count": 156,
     "metadata": {},
     "output_type": "execute_result"
    }
   ],
   "source": [
    "c"
   ]
  },
  {
   "cell_type": "code",
   "execution_count": 157,
   "metadata": {
    "ExecuteTime": {
     "end_time": "2021-01-29T19:37:10.774157Z",
     "start_time": "2021-01-29T19:37:10.758157Z"
    }
   },
   "outputs": [
    {
     "data": {
      "text/plain": [
       "numpy.ndarray"
      ]
     },
     "execution_count": 157,
     "metadata": {},
     "output_type": "execute_result"
    }
   ],
   "source": [
    "type(c)"
   ]
  },
  {
   "cell_type": "code",
   "execution_count": 159,
   "metadata": {
    "ExecuteTime": {
     "end_time": "2021-01-29T19:38:19.133954Z",
     "start_time": "2021-01-29T19:38:19.093979Z"
    }
   },
   "outputs": [],
   "source": [
    "b = np.array(c0)"
   ]
  },
  {
   "cell_type": "code",
   "execution_count": 160,
   "metadata": {
    "ExecuteTime": {
     "end_time": "2021-01-29T19:38:25.644640Z",
     "start_time": "2021-01-29T19:38:25.620650Z"
    }
   },
   "outputs": [
    {
     "data": {
      "text/plain": [
       "array([37469.583029, 37469.583029, 37469.583029, ..., 37469.583029,\n",
       "       37469.583029, 37469.583029])"
      ]
     },
     "execution_count": 160,
     "metadata": {},
     "output_type": "execute_result"
    }
   ],
   "source": [
    "b"
   ]
  },
  {
   "cell_type": "code",
   "execution_count": 161,
   "metadata": {
    "ExecuteTime": {
     "end_time": "2021-01-29T19:39:17.286593Z",
     "start_time": "2021-01-29T19:39:17.270603Z"
    }
   },
   "outputs": [
    {
     "data": {
      "text/plain": [
       "numpy.ndarray"
      ]
     },
     "execution_count": 161,
     "metadata": {},
     "output_type": "execute_result"
    }
   ],
   "source": [
    "type(time)"
   ]
  },
  {
   "cell_type": "code",
   "execution_count": 162,
   "metadata": {
    "ExecuteTime": {
     "end_time": "2021-01-29T19:39:29.382630Z",
     "start_time": "2021-01-29T19:39:29.366639Z"
    }
   },
   "outputs": [
    {
     "data": {
      "text/plain": [
       "19307.426882596475"
      ]
     },
     "execution_count": 162,
     "metadata": {},
     "output_type": "execute_result"
    }
   ],
   "source": [
    "p"
   ]
  },
  {
   "cell_type": "code",
   "execution_count": 163,
   "metadata": {
    "ExecuteTime": {
     "end_time": "2021-01-29T19:40:44.850149Z",
     "start_time": "2021-01-29T19:40:44.826158Z"
    }
   },
   "outputs": [
    {
     "data": {
      "text/plain": [
       "array([19307.4268826 , 38614.85376519, 57922.28064779, 77229.70753039,\n",
       "       96537.13441298])"
      ]
     },
     "execution_count": 163,
     "metadata": {},
     "output_type": "execute_result"
    }
   ],
   "source": [
    "time "
   ]
  },
  {
   "cell_type": "code",
   "execution_count": 164,
   "metadata": {
    "ExecuteTime": {
     "end_time": "2021-01-29T19:42:46.470812Z",
     "start_time": "2021-01-29T19:42:46.446795Z"
    }
   },
   "outputs": [
    {
     "ename": "ValueError",
     "evalue": "operands could not be broadcast together with shapes (1000000,) (5,) ",
     "output_type": "error",
     "traceback": [
      "\u001b[1;31m---------------------------------------------------------------------------\u001b[0m",
      "\u001b[1;31mValueError\u001b[0m                                Traceback (most recent call last)",
      "\u001b[1;32m<ipython-input-164-893b04dfe0e9>\u001b[0m in \u001b[0;36m<module>\u001b[1;34m\u001b[0m\n\u001b[1;32m----> 1\u001b[1;33m \u001b[0mProceso\u001b[0m \u001b[1;33m=\u001b[0m \u001b[0mb\u001b[0m \u001b[1;33m+\u001b[0m \u001b[0mtime\u001b[0m \u001b[1;33m-\u001b[0m \u001b[0mc\u001b[0m\u001b[1;33m\u001b[0m\u001b[1;33m\u001b[0m\u001b[0m\n\u001b[0m",
      "\u001b[1;31mValueError\u001b[0m: operands could not be broadcast together with shapes (1000000,) (5,) "
     ]
    }
   ],
   "source": [
    "Proceso = (b + time - c)"
   ]
  },
  {
   "cell_type": "code",
   "execution_count": 165,
   "metadata": {
    "ExecuteTime": {
     "end_time": "2021-01-29T19:50:46.673264Z",
     "start_time": "2021-01-29T19:50:46.649322Z"
    }
   },
   "outputs": [
    {
     "data": {
      "text/plain": [
       "array([19307.4268826 , 38614.85376519, 57922.28064779, 77229.70753039,\n",
       "       96537.13441298])"
      ]
     },
     "execution_count": 165,
     "metadata": {},
     "output_type": "execute_result"
    }
   ],
   "source": [
    "time"
   ]
  },
  {
   "cell_type": "code",
   "execution_count": 166,
   "metadata": {
    "ExecuteTime": {
     "end_time": "2021-01-29T19:51:03.339962Z",
     "start_time": "2021-01-29T19:51:03.315950Z"
    }
   },
   "outputs": [
    {
     "data": {
      "text/plain": [
       "array([[26584.88522161, 10637.72958875, 29826.47049837, ...,\n",
       "        10396.58351383, 17592.54535816, 15705.94887231],\n",
       "       [ 9588.2348388 , 22014.60113982, 20356.97469338, ...,\n",
       "        31346.16412192, 19771.28275307, 18342.9046244 ],\n",
       "       [20244.93001858, 17881.24992154, 14532.88095923, ...,\n",
       "         5529.93118902,  7515.00192884, 40521.62517716],\n",
       "       [ 9574.73868658, 31791.25832873, 15856.89102747, ...,\n",
       "         9820.01375374, 29583.942007  , 16674.13491185],\n",
       "       [13539.36458354, 18065.80817908, 10634.45295782, ...,\n",
       "        16133.14869477, 19876.02962225, 20362.53684722]])"
      ]
     },
     "execution_count": 166,
     "metadata": {},
     "output_type": "execute_result"
    }
   ],
   "source": [
    "c "
   ]
  },
  {
   "cell_type": "code",
   "execution_count": 167,
   "metadata": {
    "ExecuteTime": {
     "end_time": "2021-01-29T19:51:20.155337Z",
     "start_time": "2021-01-29T19:51:20.139384Z"
    }
   },
   "outputs": [
    {
     "ename": "ValueError",
     "evalue": "operands could not be broadcast together with shapes (5,) (5,1000000) ",
     "output_type": "error",
     "traceback": [
      "\u001b[1;31m---------------------------------------------------------------------------\u001b[0m",
      "\u001b[1;31mValueError\u001b[0m                                Traceback (most recent call last)",
      "\u001b[1;32m<ipython-input-167-49a409cf1a02>\u001b[0m in \u001b[0;36m<module>\u001b[1;34m\u001b[0m\n\u001b[1;32m----> 1\u001b[1;33m \u001b[0mtime\u001b[0m \u001b[1;33m-\u001b[0m \u001b[0mc\u001b[0m\u001b[1;33m\u001b[0m\u001b[1;33m\u001b[0m\u001b[0m\n\u001b[0m",
      "\u001b[1;31mValueError\u001b[0m: operands could not be broadcast together with shapes (5,) (5,1000000) "
     ]
    }
   ],
   "source": [
    "time - c "
   ]
  },
  {
   "cell_type": "code",
   "execution_count": 168,
   "metadata": {
    "ExecuteTime": {
     "end_time": "2021-01-29T19:54:18.501272Z",
     "start_time": "2021-01-29T19:54:18.485315Z"
    }
   },
   "outputs": [
    {
     "data": {
      "text/plain": [
       "(5, 1000000)"
      ]
     },
     "execution_count": 168,
     "metadata": {},
     "output_type": "execute_result"
    }
   ],
   "source": [
    "c.shape\n"
   ]
  },
  {
   "cell_type": "code",
   "execution_count": 169,
   "metadata": {
    "ExecuteTime": {
     "end_time": "2021-01-29T19:54:28.715418Z",
     "start_time": "2021-01-29T19:54:28.699396Z"
    }
   },
   "outputs": [
    {
     "data": {
      "text/plain": [
       "(5,)"
      ]
     },
     "execution_count": 169,
     "metadata": {},
     "output_type": "execute_result"
    }
   ],
   "source": [
    "time.shape"
   ]
  },
  {
   "cell_type": "code",
   "execution_count": 171,
   "metadata": {
    "ExecuteTime": {
     "end_time": "2021-01-29T19:56:06.322039Z",
     "start_time": "2021-01-29T19:56:06.282068Z"
    }
   },
   "outputs": [
    {
     "data": {
      "text/html": [
       "<div>\n",
       "<style scoped>\n",
       "    .dataframe tbody tr th:only-of-type {\n",
       "        vertical-align: middle;\n",
       "    }\n",
       "\n",
       "    .dataframe tbody tr th {\n",
       "        vertical-align: top;\n",
       "    }\n",
       "\n",
       "    .dataframe thead th {\n",
       "        text-align: right;\n",
       "    }\n",
       "</style>\n",
       "<table border=\"1\" class=\"dataframe\">\n",
       "  <thead>\n",
       "    <tr style=\"text-align: right;\">\n",
       "      <th></th>\n",
       "      <th>0</th>\n",
       "      <th>1</th>\n",
       "      <th>2</th>\n",
       "      <th>3</th>\n",
       "      <th>4</th>\n",
       "      <th>5</th>\n",
       "      <th>6</th>\n",
       "      <th>7</th>\n",
       "      <th>8</th>\n",
       "      <th>9</th>\n",
       "      <th>...</th>\n",
       "      <th>999990</th>\n",
       "      <th>999991</th>\n",
       "      <th>999992</th>\n",
       "      <th>999993</th>\n",
       "      <th>999994</th>\n",
       "      <th>999995</th>\n",
       "      <th>999996</th>\n",
       "      <th>999997</th>\n",
       "      <th>999998</th>\n",
       "      <th>999999</th>\n",
       "    </tr>\n",
       "  </thead>\n",
       "  <tbody>\n",
       "    <tr>\n",
       "      <th>Año 1</th>\n",
       "      <td>26584.885222</td>\n",
       "      <td>37222.614810</td>\n",
       "      <td>67049.085309</td>\n",
       "      <td>87551.994925</td>\n",
       "      <td>101964.130613</td>\n",
       "      <td>118821.688418</td>\n",
       "      <td>147576.319368</td>\n",
       "      <td>187083.839403</td>\n",
       "      <td>202132.348432</td>\n",
       "      <td>215005.595948</td>\n",
       "      <td>...</td>\n",
       "      <td>1.812425e+10</td>\n",
       "      <td>1.812426e+10</td>\n",
       "      <td>1.812428e+10</td>\n",
       "      <td>1.812429e+10</td>\n",
       "      <td>1.812430e+10</td>\n",
       "      <td>1.812432e+10</td>\n",
       "      <td>1.812435e+10</td>\n",
       "      <td>1.812436e+10</td>\n",
       "      <td>1.812437e+10</td>\n",
       "      <td>1.812439e+10</td>\n",
       "    </tr>\n",
       "    <tr>\n",
       "      <th>Año 2</th>\n",
       "      <td>9588.234839</td>\n",
       "      <td>31602.835979</td>\n",
       "      <td>51959.810672</td>\n",
       "      <td>67614.552424</td>\n",
       "      <td>85145.786185</td>\n",
       "      <td>91904.747872</td>\n",
       "      <td>122227.765882</td>\n",
       "      <td>137834.397448</td>\n",
       "      <td>150767.759967</td>\n",
       "      <td>169411.724088</td>\n",
       "      <td>...</td>\n",
       "      <td>1.811721e+10</td>\n",
       "      <td>1.811723e+10</td>\n",
       "      <td>1.811725e+10</td>\n",
       "      <td>1.811726e+10</td>\n",
       "      <td>1.811728e+10</td>\n",
       "      <td>1.811729e+10</td>\n",
       "      <td>1.811730e+10</td>\n",
       "      <td>1.811733e+10</td>\n",
       "      <td>1.811735e+10</td>\n",
       "      <td>1.811737e+10</td>\n",
       "    </tr>\n",
       "    <tr>\n",
       "      <th>Año 3</th>\n",
       "      <td>20244.930019</td>\n",
       "      <td>38126.179940</td>\n",
       "      <td>52659.060899</td>\n",
       "      <td>81784.478651</td>\n",
       "      <td>108318.769216</td>\n",
       "      <td>124209.382185</td>\n",
       "      <td>136607.982434</td>\n",
       "      <td>158690.552731</td>\n",
       "      <td>171716.076045</td>\n",
       "      <td>187972.852550</td>\n",
       "      <td>...</td>\n",
       "      <td>1.813059e+10</td>\n",
       "      <td>1.813062e+10</td>\n",
       "      <td>1.813064e+10</td>\n",
       "      <td>1.813065e+10</td>\n",
       "      <td>1.813066e+10</td>\n",
       "      <td>1.813069e+10</td>\n",
       "      <td>1.813072e+10</td>\n",
       "      <td>1.813073e+10</td>\n",
       "      <td>1.813074e+10</td>\n",
       "      <td>1.813078e+10</td>\n",
       "    </tr>\n",
       "    <tr>\n",
       "      <th>Año 4</th>\n",
       "      <td>9574.738687</td>\n",
       "      <td>41365.997015</td>\n",
       "      <td>57222.888043</td>\n",
       "      <td>81220.251509</td>\n",
       "      <td>99191.864737</td>\n",
       "      <td>116467.967228</td>\n",
       "      <td>124371.152181</td>\n",
       "      <td>150610.616235</td>\n",
       "      <td>156545.494044</td>\n",
       "      <td>170570.089061</td>\n",
       "      <td>...</td>\n",
       "      <td>1.810904e+10</td>\n",
       "      <td>1.810907e+10</td>\n",
       "      <td>1.810908e+10</td>\n",
       "      <td>1.810914e+10</td>\n",
       "      <td>1.810915e+10</td>\n",
       "      <td>1.810917e+10</td>\n",
       "      <td>1.810918e+10</td>\n",
       "      <td>1.810919e+10</td>\n",
       "      <td>1.810922e+10</td>\n",
       "      <td>1.810924e+10</td>\n",
       "    </tr>\n",
       "    <tr>\n",
       "      <th>Año 5</th>\n",
       "      <td>13539.364584</td>\n",
       "      <td>31605.172763</td>\n",
       "      <td>42239.625720</td>\n",
       "      <td>55098.205024</td>\n",
       "      <td>75174.939013</td>\n",
       "      <td>96289.934870</td>\n",
       "      <td>110347.633490</td>\n",
       "      <td>126693.095185</td>\n",
       "      <td>141737.162477</td>\n",
       "      <td>150602.628252</td>\n",
       "      <td>...</td>\n",
       "      <td>1.812316e+10</td>\n",
       "      <td>1.812318e+10</td>\n",
       "      <td>1.812322e+10</td>\n",
       "      <td>1.812323e+10</td>\n",
       "      <td>1.812325e+10</td>\n",
       "      <td>1.812327e+10</td>\n",
       "      <td>1.812329e+10</td>\n",
       "      <td>1.812330e+10</td>\n",
       "      <td>1.812332e+10</td>\n",
       "      <td>1.812334e+10</td>\n",
       "    </tr>\n",
       "  </tbody>\n",
       "</table>\n",
       "<p>5 rows × 1000000 columns</p>\n",
       "</div>"
      ],
      "text/plain": [
       "             0             1             2             3              4       \\\n",
       "Año 1  26584.885222  37222.614810  67049.085309  87551.994925  101964.130613   \n",
       "Año 2   9588.234839  31602.835979  51959.810672  67614.552424   85145.786185   \n",
       "Año 3  20244.930019  38126.179940  52659.060899  81784.478651  108318.769216   \n",
       "Año 4   9574.738687  41365.997015  57222.888043  81220.251509   99191.864737   \n",
       "Año 5  13539.364584  31605.172763  42239.625720  55098.205024   75174.939013   \n",
       "\n",
       "              5              6              7              8       \\\n",
       "Año 1  118821.688418  147576.319368  187083.839403  202132.348432   \n",
       "Año 2   91904.747872  122227.765882  137834.397448  150767.759967   \n",
       "Año 3  124209.382185  136607.982434  158690.552731  171716.076045   \n",
       "Año 4  116467.967228  124371.152181  150610.616235  156545.494044   \n",
       "Año 5   96289.934870  110347.633490  126693.095185  141737.162477   \n",
       "\n",
       "              9       ...        999990        999991        999992  \\\n",
       "Año 1  215005.595948  ...  1.812425e+10  1.812426e+10  1.812428e+10   \n",
       "Año 2  169411.724088  ...  1.811721e+10  1.811723e+10  1.811725e+10   \n",
       "Año 3  187972.852550  ...  1.813059e+10  1.813062e+10  1.813064e+10   \n",
       "Año 4  170570.089061  ...  1.810904e+10  1.810907e+10  1.810908e+10   \n",
       "Año 5  150602.628252  ...  1.812316e+10  1.812318e+10  1.812322e+10   \n",
       "\n",
       "             999993        999994        999995        999996        999997  \\\n",
       "Año 1  1.812429e+10  1.812430e+10  1.812432e+10  1.812435e+10  1.812436e+10   \n",
       "Año 2  1.811726e+10  1.811728e+10  1.811729e+10  1.811730e+10  1.811733e+10   \n",
       "Año 3  1.813065e+10  1.813066e+10  1.813069e+10  1.813072e+10  1.813073e+10   \n",
       "Año 4  1.810914e+10  1.810915e+10  1.810917e+10  1.810918e+10  1.810919e+10   \n",
       "Año 5  1.812323e+10  1.812325e+10  1.812327e+10  1.812329e+10  1.812330e+10   \n",
       "\n",
       "             999998        999999  \n",
       "Año 1  1.812437e+10  1.812439e+10  \n",
       "Año 2  1.811735e+10  1.811737e+10  \n",
       "Año 3  1.813074e+10  1.813078e+10  \n",
       "Año 4  1.810922e+10  1.810924e+10  \n",
       "Año 5  1.812332e+10  1.812334e+10  \n",
       "\n",
       "[5 rows x 1000000 columns]"
      ]
     },
     "execution_count": 171,
     "metadata": {},
     "output_type": "execute_result"
    }
   ],
   "source": [
    "Sum_S"
   ]
  },
  {
   "cell_type": "code",
   "execution_count": 172,
   "metadata": {
    "ExecuteTime": {
     "end_time": "2021-01-29T19:56:24.423435Z",
     "start_time": "2021-01-29T19:56:24.407447Z"
    }
   },
   "outputs": [
    {
     "data": {
      "text/plain": [
       "array([19307.4268826 , 38614.85376519, 57922.28064779, 77229.70753039,\n",
       "       96537.13441298])"
      ]
     },
     "execution_count": 172,
     "metadata": {},
     "output_type": "execute_result"
    }
   ],
   "source": [
    "time"
   ]
  },
  {
   "cell_type": "code",
   "execution_count": 88,
   "metadata": {
    "ExecuteTime": {
     "end_time": "2021-01-30T01:16:08.919334Z",
     "start_time": "2021-01-30T01:16:08.909360Z"
    }
   },
   "outputs": [],
   "source": [
    " pi_t = pd.DataFrame({\"Monto de primas en t \": time.tolist()})"
   ]
  },
  {
   "cell_type": "code",
   "execution_count": 89,
   "metadata": {
    "ExecuteTime": {
     "end_time": "2021-01-30T01:16:12.214254Z",
     "start_time": "2021-01-30T01:16:12.200260Z"
    }
   },
   "outputs": [
    {
     "data": {
      "text/html": [
       "<div>\n",
       "<style scoped>\n",
       "    .dataframe tbody tr th:only-of-type {\n",
       "        vertical-align: middle;\n",
       "    }\n",
       "\n",
       "    .dataframe tbody tr th {\n",
       "        vertical-align: top;\n",
       "    }\n",
       "\n",
       "    .dataframe thead th {\n",
       "        text-align: right;\n",
       "    }\n",
       "</style>\n",
       "<table border=\"1\" class=\"dataframe\">\n",
       "  <thead>\n",
       "    <tr style=\"text-align: right;\">\n",
       "      <th></th>\n",
       "      <th>Monto de primas en t</th>\n",
       "    </tr>\n",
       "  </thead>\n",
       "  <tbody>\n",
       "    <tr>\n",
       "      <th>0</th>\n",
       "      <td>19307.426883</td>\n",
       "    </tr>\n",
       "    <tr>\n",
       "      <th>1</th>\n",
       "      <td>38614.853765</td>\n",
       "    </tr>\n",
       "    <tr>\n",
       "      <th>2</th>\n",
       "      <td>57922.280648</td>\n",
       "    </tr>\n",
       "    <tr>\n",
       "      <th>3</th>\n",
       "      <td>77229.707530</td>\n",
       "    </tr>\n",
       "    <tr>\n",
       "      <th>4</th>\n",
       "      <td>96537.134413</td>\n",
       "    </tr>\n",
       "  </tbody>\n",
       "</table>\n",
       "</div>"
      ],
      "text/plain": [
       "   Monto de primas en t \n",
       "0           19307.426883\n",
       "1           38614.853765\n",
       "2           57922.280648\n",
       "3           77229.707530\n",
       "4           96537.134413"
      ]
     },
     "execution_count": 89,
     "metadata": {},
     "output_type": "execute_result"
    }
   ],
   "source": [
    "pi_t"
   ]
  },
  {
   "cell_type": "code",
   "execution_count": 85,
   "metadata": {
    "ExecuteTime": {
     "end_time": "2021-01-30T01:14:11.857106Z",
     "start_time": "2021-01-30T01:14:11.757833Z"
    }
   },
   "outputs": [],
   "source": [
    "Capital= pd.DataFrame({\"Capital\": c0})"
   ]
  },
  {
   "cell_type": "code",
   "execution_count": 86,
   "metadata": {
    "ExecuteTime": {
     "end_time": "2021-01-30T01:14:15.047903Z",
     "start_time": "2021-01-30T01:14:15.035935Z"
    }
   },
   "outputs": [
    {
     "data": {
      "text/html": [
       "<div>\n",
       "<style scoped>\n",
       "    .dataframe tbody tr th:only-of-type {\n",
       "        vertical-align: middle;\n",
       "    }\n",
       "\n",
       "    .dataframe tbody tr th {\n",
       "        vertical-align: top;\n",
       "    }\n",
       "\n",
       "    .dataframe thead th {\n",
       "        text-align: right;\n",
       "    }\n",
       "</style>\n",
       "<table border=\"1\" class=\"dataframe\">\n",
       "  <thead>\n",
       "    <tr style=\"text-align: right;\">\n",
       "      <th></th>\n",
       "      <th>Capital</th>\n",
       "    </tr>\n",
       "  </thead>\n",
       "  <tbody>\n",
       "    <tr>\n",
       "      <th>0</th>\n",
       "      <td>37469.583029</td>\n",
       "    </tr>\n",
       "    <tr>\n",
       "      <th>1</th>\n",
       "      <td>37469.583029</td>\n",
       "    </tr>\n",
       "    <tr>\n",
       "      <th>2</th>\n",
       "      <td>37469.583029</td>\n",
       "    </tr>\n",
       "    <tr>\n",
       "      <th>3</th>\n",
       "      <td>37469.583029</td>\n",
       "    </tr>\n",
       "    <tr>\n",
       "      <th>4</th>\n",
       "      <td>37469.583029</td>\n",
       "    </tr>\n",
       "    <tr>\n",
       "      <th>...</th>\n",
       "      <td>...</td>\n",
       "    </tr>\n",
       "    <tr>\n",
       "      <th>999995</th>\n",
       "      <td>37469.583029</td>\n",
       "    </tr>\n",
       "    <tr>\n",
       "      <th>999996</th>\n",
       "      <td>37469.583029</td>\n",
       "    </tr>\n",
       "    <tr>\n",
       "      <th>999997</th>\n",
       "      <td>37469.583029</td>\n",
       "    </tr>\n",
       "    <tr>\n",
       "      <th>999998</th>\n",
       "      <td>37469.583029</td>\n",
       "    </tr>\n",
       "    <tr>\n",
       "      <th>999999</th>\n",
       "      <td>37469.583029</td>\n",
       "    </tr>\n",
       "  </tbody>\n",
       "</table>\n",
       "<p>1000000 rows × 1 columns</p>\n",
       "</div>"
      ],
      "text/plain": [
       "             Capital\n",
       "0       37469.583029\n",
       "1       37469.583029\n",
       "2       37469.583029\n",
       "3       37469.583029\n",
       "4       37469.583029\n",
       "...              ...\n",
       "999995  37469.583029\n",
       "999996  37469.583029\n",
       "999997  37469.583029\n",
       "999998  37469.583029\n",
       "999999  37469.583029\n",
       "\n",
       "[1000000 rows x 1 columns]"
      ]
     },
     "execution_count": 86,
     "metadata": {},
     "output_type": "execute_result"
    }
   ],
   "source": [
    "Capital"
   ]
  },
  {
   "cell_type": "code",
   "execution_count": 179,
   "metadata": {
    "ExecuteTime": {
     "end_time": "2021-01-29T20:02:48.430262Z",
     "start_time": "2021-01-29T20:02:48.342104Z"
    }
   },
   "outputs": [],
   "source": [
    "Sim_S =Sim_S.T "
   ]
  },
  {
   "cell_type": "code",
   "execution_count": null,
   "metadata": {},
   "outputs": [],
   "source": [
    "Proceso_de_Riesgo = Capital[\"Capital\"] + pi_t[\"Monto de primas en t \"] - U"
   ]
  },
  {
   "cell_type": "code",
   "execution_count": 182,
   "metadata": {
    "ExecuteTime": {
     "end_time": "2021-01-29T20:04:42.155154Z",
     "start_time": "2021-01-29T20:04:42.067014Z"
    }
   },
   "outputs": [],
   "source": [
    "Sum =Sum_S.T"
   ]
  },
  {
   "cell_type": "code",
   "execution_count": 183,
   "metadata": {
    "ExecuteTime": {
     "end_time": "2021-01-29T20:04:48.721630Z",
     "start_time": "2021-01-29T20:04:48.705703Z"
    }
   },
   "outputs": [
    {
     "data": {
      "text/html": [
       "<div>\n",
       "<style scoped>\n",
       "    .dataframe tbody tr th:only-of-type {\n",
       "        vertical-align: middle;\n",
       "    }\n",
       "\n",
       "    .dataframe tbody tr th {\n",
       "        vertical-align: top;\n",
       "    }\n",
       "\n",
       "    .dataframe thead th {\n",
       "        text-align: right;\n",
       "    }\n",
       "</style>\n",
       "<table border=\"1\" class=\"dataframe\">\n",
       "  <thead>\n",
       "    <tr style=\"text-align: right;\">\n",
       "      <th></th>\n",
       "      <th>Año 1</th>\n",
       "      <th>Año 2</th>\n",
       "      <th>Año 3</th>\n",
       "      <th>Año 4</th>\n",
       "      <th>Año 5</th>\n",
       "    </tr>\n",
       "  </thead>\n",
       "  <tbody>\n",
       "    <tr>\n",
       "      <th>0</th>\n",
       "      <td>2.658489e+04</td>\n",
       "      <td>9.588235e+03</td>\n",
       "      <td>2.024493e+04</td>\n",
       "      <td>9.574739e+03</td>\n",
       "      <td>1.353936e+04</td>\n",
       "    </tr>\n",
       "    <tr>\n",
       "      <th>1</th>\n",
       "      <td>3.722261e+04</td>\n",
       "      <td>3.160284e+04</td>\n",
       "      <td>3.812618e+04</td>\n",
       "      <td>4.136600e+04</td>\n",
       "      <td>3.160517e+04</td>\n",
       "    </tr>\n",
       "    <tr>\n",
       "      <th>2</th>\n",
       "      <td>6.704909e+04</td>\n",
       "      <td>5.195981e+04</td>\n",
       "      <td>5.265906e+04</td>\n",
       "      <td>5.722289e+04</td>\n",
       "      <td>4.223963e+04</td>\n",
       "    </tr>\n",
       "    <tr>\n",
       "      <th>3</th>\n",
       "      <td>8.755199e+04</td>\n",
       "      <td>6.761455e+04</td>\n",
       "      <td>8.178448e+04</td>\n",
       "      <td>8.122025e+04</td>\n",
       "      <td>5.509821e+04</td>\n",
       "    </tr>\n",
       "    <tr>\n",
       "      <th>4</th>\n",
       "      <td>1.019641e+05</td>\n",
       "      <td>8.514579e+04</td>\n",
       "      <td>1.083188e+05</td>\n",
       "      <td>9.919186e+04</td>\n",
       "      <td>7.517494e+04</td>\n",
       "    </tr>\n",
       "    <tr>\n",
       "      <th>...</th>\n",
       "      <td>...</td>\n",
       "      <td>...</td>\n",
       "      <td>...</td>\n",
       "      <td>...</td>\n",
       "      <td>...</td>\n",
       "    </tr>\n",
       "    <tr>\n",
       "      <th>999995</th>\n",
       "      <td>1.812432e+10</td>\n",
       "      <td>1.811729e+10</td>\n",
       "      <td>1.813069e+10</td>\n",
       "      <td>1.810917e+10</td>\n",
       "      <td>1.812327e+10</td>\n",
       "    </tr>\n",
       "    <tr>\n",
       "      <th>999996</th>\n",
       "      <td>1.812435e+10</td>\n",
       "      <td>1.811730e+10</td>\n",
       "      <td>1.813072e+10</td>\n",
       "      <td>1.810918e+10</td>\n",
       "      <td>1.812329e+10</td>\n",
       "    </tr>\n",
       "    <tr>\n",
       "      <th>999997</th>\n",
       "      <td>1.812436e+10</td>\n",
       "      <td>1.811733e+10</td>\n",
       "      <td>1.813073e+10</td>\n",
       "      <td>1.810919e+10</td>\n",
       "      <td>1.812330e+10</td>\n",
       "    </tr>\n",
       "    <tr>\n",
       "      <th>999998</th>\n",
       "      <td>1.812437e+10</td>\n",
       "      <td>1.811735e+10</td>\n",
       "      <td>1.813074e+10</td>\n",
       "      <td>1.810922e+10</td>\n",
       "      <td>1.812332e+10</td>\n",
       "    </tr>\n",
       "    <tr>\n",
       "      <th>999999</th>\n",
       "      <td>1.812439e+10</td>\n",
       "      <td>1.811737e+10</td>\n",
       "      <td>1.813078e+10</td>\n",
       "      <td>1.810924e+10</td>\n",
       "      <td>1.812334e+10</td>\n",
       "    </tr>\n",
       "  </tbody>\n",
       "</table>\n",
       "<p>1000000 rows × 5 columns</p>\n",
       "</div>"
      ],
      "text/plain": [
       "               Año 1         Año 2         Año 3         Año 4         Año 5\n",
       "0       2.658489e+04  9.588235e+03  2.024493e+04  9.574739e+03  1.353936e+04\n",
       "1       3.722261e+04  3.160284e+04  3.812618e+04  4.136600e+04  3.160517e+04\n",
       "2       6.704909e+04  5.195981e+04  5.265906e+04  5.722289e+04  4.223963e+04\n",
       "3       8.755199e+04  6.761455e+04  8.178448e+04  8.122025e+04  5.509821e+04\n",
       "4       1.019641e+05  8.514579e+04  1.083188e+05  9.919186e+04  7.517494e+04\n",
       "...              ...           ...           ...           ...           ...\n",
       "999995  1.812432e+10  1.811729e+10  1.813069e+10  1.810917e+10  1.812327e+10\n",
       "999996  1.812435e+10  1.811730e+10  1.813072e+10  1.810918e+10  1.812329e+10\n",
       "999997  1.812436e+10  1.811733e+10  1.813073e+10  1.810919e+10  1.812330e+10\n",
       "999998  1.812437e+10  1.811735e+10  1.813074e+10  1.810922e+10  1.812332e+10\n",
       "999999  1.812439e+10  1.811737e+10  1.813078e+10  1.810924e+10  1.812334e+10\n",
       "\n",
       "[1000000 rows x 5 columns]"
      ]
     },
     "execution_count": 183,
     "metadata": {},
     "output_type": "execute_result"
    }
   ],
   "source": [
    "Sum"
   ]
  },
  {
   "cell_type": "code",
   "execution_count": 193,
   "metadata": {
    "ExecuteTime": {
     "end_time": "2021-01-29T20:12:47.281965Z",
     "start_time": "2021-01-29T20:12:47.113999Z"
    }
   },
   "outputs": [
    {
     "name": "stdout",
     "output_type": "stream",
     "text": [
      "0         30192.124690\n",
      "1         38861.821984\n",
      "2         28342.778368\n",
      "3         27147.295635\n",
      "4         32042.586829\n",
      "              ...     \n",
      "999995             NaN\n",
      "999996             NaN\n",
      "999997             NaN\n",
      "999998             NaN\n",
      "999999             NaN\n",
      "Length: 1000000, dtype: float64\n",
      "0         47188.775073\n",
      "1         44481.600816\n",
      "2         43432.053005\n",
      "3         47084.738135\n",
      "4         48860.931257\n",
      "              ...     \n",
      "999995             NaN\n",
      "999996             NaN\n",
      "999997             NaN\n",
      "999998             NaN\n",
      "999999             NaN\n",
      "Length: 1000000, dtype: float64\n",
      "0         36532.079893\n",
      "1         37958.256854\n",
      "2         42732.802777\n",
      "3         32914.811908\n",
      "4         25687.948226\n",
      "              ...     \n",
      "999995             NaN\n",
      "999996             NaN\n",
      "999997             NaN\n",
      "999998             NaN\n",
      "999999             NaN\n",
      "Length: 1000000, dtype: float64\n",
      "0         47202.271225\n",
      "1         34718.439779\n",
      "2         38168.975634\n",
      "3         33479.039051\n",
      "4         34814.852705\n",
      "              ...     \n",
      "999995             NaN\n",
      "999996             NaN\n",
      "999997             NaN\n",
      "999998             NaN\n",
      "999999             NaN\n",
      "Length: 1000000, dtype: float64\n",
      "0         43237.645328\n",
      "1         44479.264032\n",
      "2         53152.237956\n",
      "3         59601.085535\n",
      "4         58831.778429\n",
      "              ...     \n",
      "999995             NaN\n",
      "999996             NaN\n",
      "999997             NaN\n",
      "999998             NaN\n",
      "999999             NaN\n",
      "Length: 1000000, dtype: float64\n"
     ]
    }
   ],
   "source": [
    "for column in Sum, :\n",
    "    print(Capital[\"Capital\"] + pi_t[\"Monto de primas en t \"]-(Sum[column]))"
   ]
  },
  {
   "cell_type": "markdown",
   "metadata": {
    "cell_style": "split"
   },
   "source": [
    "Sum"
   ]
  },
  {
   "cell_type": "code",
   "execution_count": 192,
   "metadata": {
    "ExecuteTime": {
     "end_time": "2021-01-29T20:12:32.486003Z",
     "start_time": "2021-01-29T20:12:32.462055Z"
    }
   },
   "outputs": [
    {
     "data": {
      "text/html": [
       "<div>\n",
       "<style scoped>\n",
       "    .dataframe tbody tr th:only-of-type {\n",
       "        vertical-align: middle;\n",
       "    }\n",
       "\n",
       "    .dataframe tbody tr th {\n",
       "        vertical-align: top;\n",
       "    }\n",
       "\n",
       "    .dataframe thead th {\n",
       "        text-align: right;\n",
       "    }\n",
       "</style>\n",
       "<table border=\"1\" class=\"dataframe\">\n",
       "  <thead>\n",
       "    <tr style=\"text-align: right;\">\n",
       "      <th></th>\n",
       "      <th>Año 1</th>\n",
       "      <th>Año 2</th>\n",
       "      <th>Año 3</th>\n",
       "      <th>Año 4</th>\n",
       "      <th>Año 5</th>\n",
       "    </tr>\n",
       "  </thead>\n",
       "  <tbody>\n",
       "    <tr>\n",
       "      <th>0</th>\n",
       "      <td>2.658489e+04</td>\n",
       "      <td>9.588235e+03</td>\n",
       "      <td>2.024493e+04</td>\n",
       "      <td>9.574739e+03</td>\n",
       "      <td>1.353936e+04</td>\n",
       "    </tr>\n",
       "    <tr>\n",
       "      <th>1</th>\n",
       "      <td>3.722261e+04</td>\n",
       "      <td>3.160284e+04</td>\n",
       "      <td>3.812618e+04</td>\n",
       "      <td>4.136600e+04</td>\n",
       "      <td>3.160517e+04</td>\n",
       "    </tr>\n",
       "    <tr>\n",
       "      <th>2</th>\n",
       "      <td>6.704909e+04</td>\n",
       "      <td>5.195981e+04</td>\n",
       "      <td>5.265906e+04</td>\n",
       "      <td>5.722289e+04</td>\n",
       "      <td>4.223963e+04</td>\n",
       "    </tr>\n",
       "    <tr>\n",
       "      <th>3</th>\n",
       "      <td>8.755199e+04</td>\n",
       "      <td>6.761455e+04</td>\n",
       "      <td>8.178448e+04</td>\n",
       "      <td>8.122025e+04</td>\n",
       "      <td>5.509821e+04</td>\n",
       "    </tr>\n",
       "    <tr>\n",
       "      <th>4</th>\n",
       "      <td>1.019641e+05</td>\n",
       "      <td>8.514579e+04</td>\n",
       "      <td>1.083188e+05</td>\n",
       "      <td>9.919186e+04</td>\n",
       "      <td>7.517494e+04</td>\n",
       "    </tr>\n",
       "    <tr>\n",
       "      <th>...</th>\n",
       "      <td>...</td>\n",
       "      <td>...</td>\n",
       "      <td>...</td>\n",
       "      <td>...</td>\n",
       "      <td>...</td>\n",
       "    </tr>\n",
       "    <tr>\n",
       "      <th>999995</th>\n",
       "      <td>1.812432e+10</td>\n",
       "      <td>1.811729e+10</td>\n",
       "      <td>1.813069e+10</td>\n",
       "      <td>1.810917e+10</td>\n",
       "      <td>1.812327e+10</td>\n",
       "    </tr>\n",
       "    <tr>\n",
       "      <th>999996</th>\n",
       "      <td>1.812435e+10</td>\n",
       "      <td>1.811730e+10</td>\n",
       "      <td>1.813072e+10</td>\n",
       "      <td>1.810918e+10</td>\n",
       "      <td>1.812329e+10</td>\n",
       "    </tr>\n",
       "    <tr>\n",
       "      <th>999997</th>\n",
       "      <td>1.812436e+10</td>\n",
       "      <td>1.811733e+10</td>\n",
       "      <td>1.813073e+10</td>\n",
       "      <td>1.810919e+10</td>\n",
       "      <td>1.812330e+10</td>\n",
       "    </tr>\n",
       "    <tr>\n",
       "      <th>999998</th>\n",
       "      <td>1.812437e+10</td>\n",
       "      <td>1.811735e+10</td>\n",
       "      <td>1.813074e+10</td>\n",
       "      <td>1.810922e+10</td>\n",
       "      <td>1.812332e+10</td>\n",
       "    </tr>\n",
       "    <tr>\n",
       "      <th>999999</th>\n",
       "      <td>1.812439e+10</td>\n",
       "      <td>1.811737e+10</td>\n",
       "      <td>1.813078e+10</td>\n",
       "      <td>1.810924e+10</td>\n",
       "      <td>1.812334e+10</td>\n",
       "    </tr>\n",
       "  </tbody>\n",
       "</table>\n",
       "<p>1000000 rows × 5 columns</p>\n",
       "</div>"
      ],
      "text/plain": [
       "               Año 1         Año 2         Año 3         Año 4         Año 5\n",
       "0       2.658489e+04  9.588235e+03  2.024493e+04  9.574739e+03  1.353936e+04\n",
       "1       3.722261e+04  3.160284e+04  3.812618e+04  4.136600e+04  3.160517e+04\n",
       "2       6.704909e+04  5.195981e+04  5.265906e+04  5.722289e+04  4.223963e+04\n",
       "3       8.755199e+04  6.761455e+04  8.178448e+04  8.122025e+04  5.509821e+04\n",
       "4       1.019641e+05  8.514579e+04  1.083188e+05  9.919186e+04  7.517494e+04\n",
       "...              ...           ...           ...           ...           ...\n",
       "999995  1.812432e+10  1.811729e+10  1.813069e+10  1.810917e+10  1.812327e+10\n",
       "999996  1.812435e+10  1.811730e+10  1.813072e+10  1.810918e+10  1.812329e+10\n",
       "999997  1.812436e+10  1.811733e+10  1.813073e+10  1.810919e+10  1.812330e+10\n",
       "999998  1.812437e+10  1.811735e+10  1.813074e+10  1.810922e+10  1.812332e+10\n",
       "999999  1.812439e+10  1.811737e+10  1.813078e+10  1.810924e+10  1.812334e+10\n",
       "\n",
       "[1000000 rows x 5 columns]"
      ]
     },
     "execution_count": 192,
     "metadata": {},
     "output_type": "execute_result"
    }
   ],
   "source": [
    "Sum"
   ]
  },
  {
   "cell_type": "code",
   "execution_count": 196,
   "metadata": {
    "ExecuteTime": {
     "end_time": "2021-01-29T20:17:29.755529Z",
     "start_time": "2021-01-29T20:17:29.739541Z"
    }
   },
   "outputs": [],
   "source": [
    "guitar =pi_t.T"
   ]
  },
  {
   "cell_type": "code",
   "execution_count": null,
   "metadata": {},
   "outputs": [],
   "source": [
    "for column, y in guitar, Sum :\n",
    "    print([column])"
   ]
  }
 ],
 "metadata": {
  "hide_input": false,
  "kernelspec": {
   "display_name": "Python 3",
   "language": "python",
   "name": "python3"
  },
  "language_info": {
   "codemirror_mode": {
    "name": "ipython",
    "version": 3
   },
   "file_extension": ".py",
   "mimetype": "text/x-python",
   "name": "python",
   "nbconvert_exporter": "python",
   "pygments_lexer": "ipython3",
   "version": "3.8.5"
  },
  "latex_envs": {
   "LaTeX_envs_menu_present": true,
   "autoclose": false,
   "autocomplete": true,
   "bibliofile": "biblio.bib",
   "cite_by": "apalike",
   "current_citInitial": 1,
   "eqLabelWithNumbers": true,
   "eqNumInitial": 1,
   "hotkeys": {
    "equation": "Ctrl-E",
    "itemize": "Ctrl-I"
   },
   "labels_anchors": false,
   "latex_user_defs": false,
   "report_style_numbering": false,
   "user_envs_cfg": false
  },
  "toc": {
   "base_numbering": 1,
   "nav_menu": {
    "height": "92px",
    "width": "228px"
   },
   "number_sections": true,
   "sideBar": true,
   "skip_h1_title": false,
   "title_cell": "Table of Contents",
   "title_sidebar": "Contents",
   "toc_cell": false,
   "toc_position": {
    "height": "calc(100% - 180px)",
    "left": "10px",
    "top": "150px",
    "width": "211px"
   },
   "toc_section_display": true,
   "toc_window_display": true
  },
  "varInspector": {
   "cols": {
    "lenName": 16,
    "lenType": 16,
    "lenVar": 40
   },
   "kernels_config": {
    "python": {
     "delete_cmd_postfix": "",
     "delete_cmd_prefix": "del ",
     "library": "var_list.py",
     "varRefreshCmd": "print(var_dic_list())"
    },
    "r": {
     "delete_cmd_postfix": ") ",
     "delete_cmd_prefix": "rm(",
     "library": "var_list.r",
     "varRefreshCmd": "cat(var_dic_list()) "
    }
   },
   "types_to_exclude": [
    "module",
    "function",
    "builtin_function_or_method",
    "instance",
    "_Feature"
   ],
   "window_display": false
  }
 },
 "nbformat": 4,
 "nbformat_minor": 4
}
